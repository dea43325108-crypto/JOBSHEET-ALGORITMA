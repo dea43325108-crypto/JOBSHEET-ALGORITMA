{
  "nbformat": 4,
  "nbformat_minor": 0,
  "metadata": {
    "colab": {
      "provenance": [],
      "authorship_tag": "ABX9TyPOgwYa+izSRri6mOGfsHdX",
      "include_colab_link": true
    },
    "kernelspec": {
      "name": "python3",
      "display_name": "Python 3"
    },
    "language_info": {
      "name": "python"
    }
  },
  "cells": [
    {
      "cell_type": "markdown",
      "metadata": {
        "id": "view-in-github",
        "colab_type": "text"
      },
      "source": [
        "<a href=\"https://colab.research.google.com/github/dea43325108-crypto/JOBSHEET-ALGORITMA/blob/main/Jobsheet_6.ipynb\" target=\"_parent\"><img src=\"https://colab.research.google.com/assets/colab-badge.svg\" alt=\"Open In Colab\"/></a>"
      ]
    },
    {
      "cell_type": "markdown",
      "source": [
        "# Praktikum 01 - Membuat dan Mengakses List 1D #"
      ],
      "metadata": {
        "id": "rrMK9DjKfJO5"
      }
    },
    {
      "cell_type": "code",
      "execution_count": null,
      "metadata": {
        "colab": {
          "base_uri": "https://localhost:8080/"
        },
        "id": "ie5W9bWYfCoT",
        "outputId": "8a6facb8-ddde-4044-8f8e-408d5e07146c"
      },
      "outputs": [
        {
          "output_type": "stream",
          "name": "stdout",
          "text": [
            "Andi\n",
            "Budi\n",
            "Cici\n"
          ]
        }
      ],
      "source": [
        "mahasiswa = [\"Andi\", \"Budi\", \"Cici\"]\n",
        "print(mahasiswa[0])   #Andi\n",
        "print(mahasiswa[1])   #Budi\n",
        "print(mahasiswa[-1])  #Cici"
      ]
    },
    {
      "cell_type": "markdown",
      "source": [
        "# Praktikum 02 - Update dan Operasi Dasar List #"
      ],
      "metadata": {
        "id": "uDsRnBnDgeld"
      }
    },
    {
      "cell_type": "code",
      "source": [
        "nilai = [85, 90, 78]\n",
        "nilai [1] = 95\n",
        "nilai.append(100)\n",
        "nilai.remove(78)\n",
        "print(nilai)"
      ],
      "metadata": {
        "colab": {
          "base_uri": "https://localhost:8080/"
        },
        "id": "AsBo-UWmgpQj",
        "outputId": "457b993c-c1f3-4e60-f5b2-072a6f8a32c2"
      },
      "execution_count": null,
      "outputs": [
        {
          "output_type": "stream",
          "name": "stdout",
          "text": [
            "[85, 95, 100]\n"
          ]
        }
      ]
    },
    {
      "cell_type": "markdown",
      "source": [
        "# Praktikum 03 - Slicing List #"
      ],
      "metadata": {
        "id": "_SDcgLGUhDrM"
      }
    },
    {
      "cell_type": "code",
      "source": [
        "nilai = [85, 90, 78, 92, 88]\n",
        "print(nilai[0:3]) #[85, 90, 78]\n",
        "print(nilai[2:])  #[78, 92, 88]\n",
        "print(nilai[:3])  #[85, 90, 78]"
      ],
      "metadata": {
        "colab": {
          "base_uri": "https://localhost:8080/"
        },
        "id": "oboucLNOhKLf",
        "outputId": "62745415-c8b8-4c61-d74f-4ba77a27ff20"
      },
      "execution_count": null,
      "outputs": [
        {
          "output_type": "stream",
          "name": "stdout",
          "text": [
            "[85, 90, 78]\n",
            "[78, 92, 88]\n",
            "[85, 90, 78]\n"
          ]
        }
      ]
    },
    {
      "cell_type": "markdown",
      "source": [
        "# Praktikum 04 - List 2D (Matriks) #"
      ],
      "metadata": {
        "id": "KyWll-j5huAR"
      }
    },
    {
      "cell_type": "code",
      "source": [
        "matriks = [\n",
        "    [1, 2, 3],\n",
        "    [4, 5, 6],\n",
        "    [7, 8, 9]\n",
        "]\n",
        "\n",
        "print(matriks[0] [0]) # 1\n",
        "print(matriks[1] [2]) # 6\n",
        "print(matriks[2])     # [7, 8, 9]"
      ],
      "metadata": {
        "colab": {
          "base_uri": "https://localhost:8080/"
        },
        "id": "ehkNE9HFh37v",
        "outputId": "fedbc928-51a2-4703-f2f3-b5e17c1e20d9"
      },
      "execution_count": null,
      "outputs": [
        {
          "output_type": "stream",
          "name": "stdout",
          "text": [
            "1\n",
            "6\n",
            "[7, 8, 9]\n"
          ]
        }
      ]
    },
    {
      "cell_type": "markdown",
      "source": [
        "# Praktikum 05 - Operasi pada List 2D #"
      ],
      "metadata": {
        "id": "j53FfCoZiqP8"
      }
    },
    {
      "cell_type": "code",
      "source": [
        "A = [[1, 2, 3], [4, 5, 6]]\n",
        "B = [[7, 8, 9], [10, 11, 12]]\n",
        "C = []\n",
        "\n",
        "for i in range(len(A)):\n",
        "  baris = []\n",
        "  for j in range(len(A[0])):\n",
        "    baris.append(A[i] [j] + B[i] [j])\n",
        "  C.append(baris)\n",
        "print(C)"
      ],
      "metadata": {
        "colab": {
          "base_uri": "https://localhost:8080/"
        },
        "id": "YoxV1z-6ixPD",
        "outputId": "55678945-ec07-4eef-c72f-f79aeef0e212"
      },
      "execution_count": null,
      "outputs": [
        {
          "output_type": "stream",
          "name": "stdout",
          "text": [
            "[[8, 10, 12], [14, 16, 18]]\n"
          ]
        }
      ]
    },
    {
      "cell_type": "markdown",
      "source": [
        "# Praktikum 06 - Studi Kasus: Pengolahan Nilai Mahasiswa #"
      ],
      "metadata": {
        "id": "0LkSdEf-j9CA"
      }
    },
    {
      "cell_type": "code",
      "source": [
        "nilai = [\n",
        "    [80, 90, 85],\n",
        "    [70, 75, 80],\n",
        "    [88, 92, 84]\n",
        "]\n",
        "\n",
        "for i, baris in enumerate(nilai, start=1):\n",
        "  rata = sum(baris) / len(baris)\n",
        "  print(f\"Rata-rata mahasiswa {i}: {rata:.2f}\")"
      ],
      "metadata": {
        "colab": {
          "base_uri": "https://localhost:8080/"
        },
        "id": "NuCCShrWkIiE",
        "outputId": "76706b6a-0fe2-4b4a-b7a1-cf185d6dae3c"
      },
      "execution_count": null,
      "outputs": [
        {
          "output_type": "stream",
          "name": "stdout",
          "text": [
            "Rata-rata mahasiswa 1: 85.00\n",
            "Rata-rata mahasiswa 2: 75.00\n",
            "Rata-rata mahasiswa 3: 88.00\n"
          ]
        }
      ]
    },
    {
      "cell_type": "markdown",
      "source": [
        "# Penugasan 3 - Akses Elemen List #"
      ],
      "metadata": {
        "id": "p3ksbP2mle7r"
      }
    },
    {
      "cell_type": "code",
      "source": [
        "mahasiswa = [\"Prisma\", \"Arindiani\", \"Najwa\", \"Fifi\", \"Aurel\"]\n",
        "print(mahasiswa[0])   #Nama Pertama\n",
        "print(mahasiswa[-1])  #Nama Terakhir\n",
        "print(mahasiswa[1])   #Nama Indeks ke-2"
      ],
      "metadata": {
        "colab": {
          "base_uri": "https://localhost:8080/"
        },
        "id": "Mif25ICNlncw",
        "outputId": "b61d5e11-d22a-49bc-b024-ca41148ced24"
      },
      "execution_count": null,
      "outputs": [
        {
          "output_type": "stream",
          "name": "stdout",
          "text": [
            "Prisma\n",
            "Aurel\n",
            "Arindiani\n"
          ]
        }
      ]
    },
    {
      "cell_type": "markdown",
      "source": [
        "# Penugasan 4 - Operasi Dasar List #"
      ],
      "metadata": {
        "id": "3CgbNRkrm6np"
      }
    },
    {
      "cell_type": "code",
      "source": [
        "nilai = [70, 75, 80]\n",
        "nilai [2] = 85\n",
        "nilai.append(90)\n",
        "nilai.remove(70)\n",
        "print(nilai)"
      ],
      "metadata": {
        "colab": {
          "base_uri": "https://localhost:8080/"
        },
        "id": "d_N_zLW-nEWF",
        "outputId": "f4eaa54a-1e8f-485b-a90b-e9f57a905456"
      },
      "execution_count": 2,
      "outputs": [
        {
          "output_type": "stream",
          "name": "stdout",
          "text": [
            "[75, 85, 90]\n"
          ]
        }
      ]
    },
    {
      "cell_type": "markdown",
      "source": [
        "# Penugasan 5 - Slicing List #"
      ],
      "metadata": {
        "id": "dnEhqxSonq1M"
      }
    },
    {
      "cell_type": "code",
      "source": [
        "nilai = [1, 2, 3, 4, 5, 6, 7, 8, 9, 10]\n",
        "\n",
        "print(nilai[0:3])   #3 Elemen Pertama\n",
        "print(nilai[-4:])   #4 Elemen Terakhir\n",
        "print(nilai[1::2])  #Elemen dengan indeks genap"
      ],
      "metadata": {
        "colab": {
          "base_uri": "https://localhost:8080/"
        },
        "id": "Bbs0GsXbnvtN",
        "outputId": "6079395f-48d5-4b28-e281-6fe173bf72c6"
      },
      "execution_count": null,
      "outputs": [
        {
          "output_type": "stream",
          "name": "stdout",
          "text": [
            "[1, 2, 3]\n",
            "[7, 8, 9, 10]\n",
            "[2, 4, 6, 8, 10]\n"
          ]
        }
      ]
    },
    {
      "cell_type": "markdown",
      "source": [
        "# Penugasan 6 - List 2D-Matriks #"
      ],
      "metadata": {
        "id": "SjljAWWMqjvE"
      }
    },
    {
      "cell_type": "code",
      "source": [
        "matriks = [\n",
        "    [1, 2, 3],\n",
        "    [4, 5, 6],\n",
        "]\n",
        "\n",
        "print(matriks[0] [1]) # Baris pertama kolom kedua\n",
        "print(matriks[1] [2]) # Baris ketdua kolom ketiga\n",
        "print(matriks[0])     # Seluruh baris pertama"
      ],
      "metadata": {
        "colab": {
          "base_uri": "https://localhost:8080/"
        },
        "id": "03BYVupuqtBJ",
        "outputId": "2e787dd6-a908-4974-9129-577740ad11e4"
      },
      "execution_count": null,
      "outputs": [
        {
          "output_type": "stream",
          "name": "stdout",
          "text": [
            "2\n",
            "6\n",
            "[1, 2, 3]\n"
          ]
        }
      ]
    },
    {
      "cell_type": "markdown",
      "source": [
        "# Penugasan 7 - Operasi Matriks 2D #"
      ],
      "metadata": {
        "id": "9r256Re8vlUw"
      }
    },
    {
      "cell_type": "code",
      "source": [
        "matriks1 = [\n",
        "    [1, 2],\n",
        "    [3, 4]\n",
        "]\n",
        "\n",
        "matriks2 = [\n",
        "    [5, 6],\n",
        "    [7, 8]\n",
        "]\n",
        "\n",
        "hasil_matriks = [\n",
        "    [0, 0],\n",
        "    [0, 0]\n",
        "]\n",
        "\n",
        "for i in range(len(matriks1)):\n",
        "    for j in range(len(matriks1[0])):\n",
        "        hasil_matriks[i][j] = matriks1[i][j] + matriks2[i][j]\n",
        "\n",
        "print(\"Matriks 1:\")\n",
        "for baris in matriks1:\n",
        "    print(baris)\n",
        "\n",
        "print(\"\\nMatriks 2:\")\n",
        "for baris in matriks2:\n",
        "    print(baris)\n",
        "\n",
        "print(\"\\nHasil Penjumlahan Matriks:\")\n",
        "for baris in hasil_matriks:\n",
        "    print(baris)"
      ],
      "metadata": {
        "colab": {
          "base_uri": "https://localhost:8080/"
        },
        "id": "3u2873CjvsoY",
        "outputId": "45b8a7da-f361-4456-c4f9-18428820f383"
      },
      "execution_count": null,
      "outputs": [
        {
          "output_type": "stream",
          "name": "stdout",
          "text": [
            "Matriks 1:\n",
            "[1, 2]\n",
            "[3, 4]\n",
            "\n",
            "Matriks 2:\n",
            "[5, 6]\n",
            "[7, 8]\n",
            "\n",
            "Hasil Penjumlahan Matriks:\n",
            "[6, 8]\n",
            "[10, 12]\n"
          ]
        }
      ]
    },
    {
      "cell_type": "markdown",
      "source": [
        "# Penugasan 8 - Rata-rata Nilai Mahasiswa #"
      ],
      "metadata": {
        "id": "qkRlnPqtxqQh"
      }
    },
    {
      "cell_type": "code",
      "source": [
        "nilai = [\n",
        "    [75, 80, 85],\n",
        "    [60, 70, 65],\n",
        "    [90, 95, 92]\n",
        "]\n",
        "\n",
        "for i, baris in enumerate(nilai, start=1):\n",
        "  rata = sum(baris) / len(baris)\n",
        "  print(f\"Rata-rata mahasiswa {i}: {rata:.2f}\")"
      ],
      "metadata": {
        "colab": {
          "base_uri": "https://localhost:8080/"
        },
        "id": "oqfRkLnax091",
        "outputId": "c6151a8f-e526-47ab-bc34-ad0877d86cd8"
      },
      "execution_count": null,
      "outputs": [
        {
          "output_type": "stream",
          "name": "stdout",
          "text": [
            "Rata-rata mahasiswa 1: 80.00\n",
            "Rata-rata mahasiswa 2: 65.00\n",
            "Rata-rata mahasiswa 3: 92.33\n"
          ]
        }
      ]
    },
    {
      "cell_type": "markdown",
      "source": [
        "# Penugasan 9 - Studi Kasus Data Toko #"
      ],
      "metadata": {
        "id": "VCo8Ceb6yb1I"
      }
    },
    {
      "cell_type": "code",
      "source": [
        "stok = [[\"Buku\", 20], [\"Pulpen\", 35], [\"Penghapus\", 15]]\n",
        "\n",
        "for item in stok:\n",
        "  nama_barang = item[0]\n",
        "  jumlah_stok = item[1]\n",
        "  print(f\"Nama Barang: {nama_barang}, Stok: {jumlah_stok}\")\n",
        "\n",
        "stok_terbanyak = stok[0][1]\n",
        "nama_barang_terbanyak = stok[0][0]\n",
        "\n",
        "for item in stok[1:]:\n",
        "    if item[1] > stok_terbanyak:\n",
        "        stok_terbanyak = item[1]\n",
        "        nama_barang_terbanyak = item[0]\n",
        "\n",
        "print(f\"Barang dengan stok terbanyak adalah: {nama_barang_terbanyak}\")"
      ],
      "metadata": {
        "colab": {
          "base_uri": "https://localhost:8080/"
        },
        "id": "ZQdoqU3PykEh",
        "outputId": "e4498fe2-ee8e-425d-a624-cd02ff4292a7"
      },
      "execution_count": 3,
      "outputs": [
        {
          "output_type": "stream",
          "name": "stdout",
          "text": [
            "Nama Barang: Buku, Stok: 20\n",
            "Nama Barang: Pulpen, Stok: 35\n",
            "Nama Barang: Penghapus, Stok: 15\n",
            "Barang dengan stok terbanyak adalah: Pulpen\n"
          ]
        }
      ]
    }
  ]
}