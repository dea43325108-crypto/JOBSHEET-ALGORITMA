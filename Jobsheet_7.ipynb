{
  "nbformat": 4,
  "nbformat_minor": 0,
  "metadata": {
    "colab": {
      "provenance": [],
      "authorship_tag": "ABX9TyPpAZ9IUM0RISSm56vB3grt",
      "include_colab_link": true
    },
    "kernelspec": {
      "name": "python3",
      "display_name": "Python 3"
    },
    "language_info": {
      "name": "python"
    }
  },
  "cells": [
    {
      "cell_type": "markdown",
      "metadata": {
        "id": "view-in-github",
        "colab_type": "text"
      },
      "source": [
        "<a href=\"https://colab.research.google.com/github/dea43325108-crypto/JOBSHEET-ALGORITMA/blob/main/Jobsheet_7.ipynb\" target=\"_parent\"><img src=\"https://colab.research.google.com/assets/colab-badge.svg\" alt=\"Open In Colab\"/></a>"
      ]
    },
    {
      "cell_type": "markdown",
      "source": [
        "# Praktikum 01 - Tuple: Data Tetap yang Tidak Bisa Diubah #"
      ],
      "metadata": {
        "id": "6tl0AEeylgAX"
      }
    },
    {
      "cell_type": "code",
      "execution_count": null,
      "metadata": {
        "colab": {
          "base_uri": "https://localhost:8080/"
        },
        "id": "FKNJivzOlXSB",
        "outputId": "8a79adc6-3ead-4c02-da17-064b82f5da02"
      },
      "outputs": [
        {
          "output_type": "stream",
          "name": "stdout",
          "text": [
            "Lintang: 7.05\n",
            "Bujur: 110.44\n"
          ]
        }
      ],
      "source": [
        "koordinat = (7.05, 110.44)\n",
        "print(\"Lintang:\", koordinat[0])\n",
        "print(\"Bujur:\", koordinat[1])"
      ]
    },
    {
      "cell_type": "markdown",
      "source": [
        "# Praktikum 02 - Dictionary Dasar: Menyimpan Data Mahasiswa #"
      ],
      "metadata": {
        "id": "u5fJ8es5m22Q"
      }
    },
    {
      "cell_type": "code",
      "source": [
        "mahasiswa = {\n",
        "    \"NIM\": \"20251001\",\n",
        "    \"Nama\": \"Andi\",\n",
        "    \"Prodi\": \"TRK\"\n",
        "}\n",
        "\n",
        "print(\"NIM: \", mahasiswa[\"NIM\"])\n",
        "print(\"Nama: \", mahasiswa[\"Nama\"])\n",
        "print(\"Prodi: \", mahasiswa[\"Prodi\"])"
      ],
      "metadata": {
        "colab": {
          "base_uri": "https://localhost:8080/"
        },
        "id": "UTzwBLnLnAK0",
        "outputId": "8038ac5c-01c5-4d21-c9ae-069b1d791ef2"
      },
      "execution_count": null,
      "outputs": [
        {
          "output_type": "stream",
          "name": "stdout",
          "text": [
            "NIM:  20251001\n",
            "Nama:  Andi\n",
            "Prodi:  TRK\n"
          ]
        }
      ]
    },
    {
      "cell_type": "markdown",
      "source": [
        "# Praktikum 03 - Operasi pada Dictionary #"
      ],
      "metadata": {
        "id": "Bge9BdNTnzTI"
      }
    },
    {
      "cell_type": "code",
      "source": [
        "mahasiswa = {\n",
        "    \"NIM\": \"20251001\",\n",
        "    \"Nama\": \"Andi\",\n",
        "    \"Prodi\": \"TRK\"\n",
        "}\n",
        "\n",
        "mahasiswa [\"Umur\"] = 20                 #Menambah data\n",
        "mahasiswa [\"Prodi\"] = \"Teknik Komputer\" #Memperbarui data\n",
        "del mahasiswa [\"Umur\"]                  #Menghapus data\n",
        "\n",
        "print(mahasiswa)"
      ],
      "metadata": {
        "colab": {
          "base_uri": "https://localhost:8080/"
        },
        "id": "lhxB-HZEn7Ik",
        "outputId": "fb5f8a71-6e88-42fe-f867-782b367fb3c6"
      },
      "execution_count": null,
      "outputs": [
        {
          "output_type": "stream",
          "name": "stdout",
          "text": [
            "{'NIM': '20251001', 'Nama': 'Andi', 'Prodi': 'Teknik Komputer'}\n"
          ]
        }
      ]
    },
    {
      "cell_type": "markdown",
      "source": [
        "# Praktikum 04 - Set dan Operasi Himpunan #"
      ],
      "metadata": {
        "id": "Astb4N6MpEjF"
      }
    },
    {
      "cell_type": "code",
      "source": [
        "A = {1, 2, 3, 4}\n",
        "B = {3, 4, 5, 6}\n",
        "\n",
        "print(\"Union:\", A | B)\n",
        "print(\"Intersection:\", A & B)\n",
        "print(\"Difference:\", A - B)"
      ],
      "metadata": {
        "colab": {
          "base_uri": "https://localhost:8080/"
        },
        "id": "HS9c1GzGpNHe",
        "outputId": "d4e10f97-2cd1-48bc-ce1b-01fe2b90c7bb"
      },
      "execution_count": null,
      "outputs": [
        {
          "output_type": "stream",
          "name": "stdout",
          "text": [
            "Union: {1, 2, 3, 4, 5, 6}\n",
            "Intersection: {3, 4}\n",
            "Difference: {1, 2}\n"
          ]
        }
      ]
    },
    {
      "cell_type": "markdown",
      "source": [
        "# Praktikum 05 - Studi Kasus: Data Mahasiswa dan Mata Kuliah #"
      ],
      "metadata": {
        "id": "i_jIjb9Wp6Ew"
      }
    },
    {
      "cell_type": "code",
      "source": [
        "mhs1 = {\"Algoritma\", \"Matematika\", \"Bahasa Inggris\"}\n",
        "mhs2 = {\"Algoritma\", \"Basis Data\", \"Matematika\"}\n",
        "\n",
        "print(\"Mata Kuliah Mhs1:\", mhs1)\n",
        "print(\"Mata Kuliah Mhs2:\", mhs2)\n",
        "print(\"Mata kuliah yang sama:\", mhs1 & mhs2)"
      ],
      "metadata": {
        "colab": {
          "base_uri": "https://localhost:8080/"
        },
        "id": "IzYSy97cqU49",
        "outputId": "b87dfa7e-f56f-4759-94d8-d64944cc0213"
      },
      "execution_count": null,
      "outputs": [
        {
          "output_type": "stream",
          "name": "stdout",
          "text": [
            "Mata Kuliah Mhs1: {'Algoritma', 'Matematika', 'Bahasa Inggris'}\n",
            "Mata Kuliah Mhs2: {'Algoritma', 'Basis Data', 'Matematika'}\n",
            "Mata kuliah yang sama: {'Algoritma', 'Matematika'}\n"
          ]
        }
      ]
    },
    {
      "cell_type": "markdown",
      "source": [
        "# Praktikum 06 - Studi Kasus Dictionary: Daftar Nilai Mahasiswa #"
      ],
      "metadata": {
        "id": "szW56gZvrQZA"
      }
    },
    {
      "cell_type": "code",
      "source": [
        "nilai_mahasiswa = {\n",
        "    \"Andi\": 80,\n",
        "    \"Budi\": 75,\n",
        "    \"Cici\": 90\n",
        "}\n",
        "\n",
        "for nama, nilai in nilai_mahasiswa.items():\n",
        "    print(f\"{nama}: {nilai}\")\n",
        "\n",
        "rata = sum(nilai_mahasiswa.values()) / len(nilai_mahasiswa)\n",
        "print(f\"Rata-rata nilai: {rata:.2f}\")"
      ],
      "metadata": {
        "colab": {
          "base_uri": "https://localhost:8080/"
        },
        "id": "OyHk4Os7rXuQ",
        "outputId": "818085fc-f818-48ba-bd6e-9e32f12371d3"
      },
      "execution_count": null,
      "outputs": [
        {
          "output_type": "stream",
          "name": "stdout",
          "text": [
            "Andi: 80\n",
            "Budi: 75\n",
            "Cici: 90\n",
            "Rata-rata nilai: 81.67\n"
          ]
        }
      ]
    },
    {
      "cell_type": "markdown",
      "source": [
        "# Penugasan 3 - Tuple Sederhana #"
      ],
      "metadata": {
        "id": "ildycAIP1A5u"
      }
    },
    {
      "cell_type": "code",
      "source": [
        "data = (\"Dea\", 19, \"TRK\")\n",
        "print(\"Nama:\", data[0])\n",
        "print(\"Umur:\", data[1])\n",
        "print(\"Prodi:\", data[2])"
      ],
      "metadata": {
        "colab": {
          "base_uri": "https://localhost:8080/"
        },
        "id": "7ChnI4lb1G9Y",
        "outputId": "21a1e3a2-4f5b-4819-aea2-336e63d3abb2"
      },
      "execution_count": 1,
      "outputs": [
        {
          "output_type": "stream",
          "name": "stdout",
          "text": [
            "Nama: Dea\n",
            "Umur: 19\n",
            "Prodi: TRK\n"
          ]
        }
      ]
    },
    {
      "cell_type": "markdown",
      "source": [
        "# Penugasan 4 - Tuple Tidak bisa diubah #"
      ],
      "metadata": {
        "id": "AETIfM6X2MJB"
      }
    },
    {
      "cell_type": "code",
      "source": [
        "my_tuple = (1, 2, 3)\n",
        "print(f\"Tuple awal: {my_tuple}\")\n",
        "\n",
        "try:\n",
        "    my_tuple[1] = 5\n",
        "except TypeError as e:\n",
        "    print(\"\\n--- Hasil Percobaan ---\")\n",
        "    print(f\"ERROR: {e}\")"
      ],
      "metadata": {
        "colab": {
          "base_uri": "https://localhost:8080/"
        },
        "id": "GZgIaqjN2aHr",
        "outputId": "ba7fda0a-acf3-4bce-a8b2-d81589da77e8"
      },
      "execution_count": 2,
      "outputs": [
        {
          "output_type": "stream",
          "name": "stdout",
          "text": [
            "Tuple awal: (1, 2, 3)\n",
            "\n",
            "--- Hasil Percobaan ---\n",
            "ERROR: 'tuple' object does not support item assignment\n"
          ]
        }
      ]
    },
    {
      "cell_type": "markdown",
      "source": [
        "# Penugasan 5 - Dictionary Dasar #"
      ],
      "metadata": {
        "id": "J7-P0e7S52fs"
      }
    },
    {
      "cell_type": "code",
      "source": [
        "buku = {\n",
        "    \"Judul\": \"Algoritma\",\n",
        "    \"Penulis\": \"Munir\",\n",
        "    \"Tahun\": \"2021\"\n",
        "}\n",
        "\n",
        "print(\"Judul: \", buku[\"Judul\"])\n",
        "print(\"Penulis: \", buku[\"Penulis\"])\n",
        "print(\"Tahun: \", buku[\"Tahun\"])"
      ],
      "metadata": {
        "colab": {
          "base_uri": "https://localhost:8080/"
        },
        "id": "HJutl7o06Huo",
        "outputId": "4fb38ee3-61b6-4357-89aa-e38156356aa7"
      },
      "execution_count": 5,
      "outputs": [
        {
          "output_type": "stream",
          "name": "stdout",
          "text": [
            "Judul:  Algoritma\n",
            "Penulis:  Munir\n",
            "Tahun:  2021\n"
          ]
        }
      ]
    },
    {
      "cell_type": "markdown",
      "source": [
        "# Penugasan 6 - Operasi Dictionary #"
      ],
      "metadata": {
        "id": "y-4Iqou73NmS"
      }
    },
    {
      "cell_type": "code",
      "source": [
        "dosen = {\n",
        "    \"NIP\": \"12345\",\n",
        "    \"Nama\": \"Budi\",\n",
        "    \"Prodi\": \"TRK\"\n",
        "}\n",
        "\n",
        "dosen[\"Umur\"] = 40                          #Menambah data\n",
        "dosen.update({\"Prodi\": \"Teknik Komputer\"})  #Memperbarui data\n",
        "del dosen[\"Umur\"]                           #Menghapus data\n",
        "\n",
        "print(\"NIP: \", dosen[\"NIP\"])\n",
        "print(\"Nama: \", dosen[\"Nama\"])\n",
        "print(\"Prodi: \", dosen[\"Prodi\"])"
      ],
      "metadata": {
        "colab": {
          "base_uri": "https://localhost:8080/"
        },
        "id": "RWFdzhUw3U37",
        "outputId": "55c458a6-214e-4b0a-f668-196033539728"
      },
      "execution_count": 4,
      "outputs": [
        {
          "output_type": "stream",
          "name": "stdout",
          "text": [
            "NIP:  12345\n",
            "Nama:  Budi\n",
            "Prodi:  Teknik Komputer\n"
          ]
        }
      ]
    },
    {
      "cell_type": "markdown",
      "source": [
        "# Penugasan 7 - Set Himpunan #"
      ],
      "metadata": {
        "id": "sIVNswo35mLa"
      }
    },
    {
      "cell_type": "code",
      "source": [
        "A = {\"Matematika\", \"Algoritma\", \"Bahasa Inggris\"}\n",
        "B = {\"Algoritma\", \"Basis Data\", \"Matematika\"}\n",
        "\n",
        "print(\"Union:\", A | B)\n",
        "print(\"Intersection:\", A & B)\n",
        "print(\"Difference:\", A - B)"
      ],
      "metadata": {
        "colab": {
          "base_uri": "https://localhost:8080/"
        },
        "id": "H1GnQQRx5yI-",
        "outputId": "2fdf012a-9e94-420d-c664-2f8eb8e09707"
      },
      "execution_count": 6,
      "outputs": [
        {
          "output_type": "stream",
          "name": "stdout",
          "text": [
            "Union: {'Bahasa Inggris', 'Matematika', 'Basis Data', 'Algoritma'}\n",
            "Intersection: {'Algoritma', 'Matematika'}\n",
            "Difference: {'Bahasa Inggris'}\n"
          ]
        }
      ]
    },
    {
      "cell_type": "markdown",
      "source": [
        "# Penugasan 8 - Studi Kasus Dictionary #"
      ],
      "metadata": {
        "id": "lqpa-zMi7ZgR"
      }
    },
    {
      "cell_type": "code",
      "source": [
        "nilai_mahasiswa = {\n",
        "    \"Andi\": 85,\n",
        "    \"Budi\": 90,\n",
        "    \"Cici\": 78\n",
        "}\n",
        "\n",
        "for nama, nilai in nilai_mahasiswa.items():\n",
        "    print(f\"{nama}: {nilai}\")\n",
        "\n",
        "rata = sum(nilai_mahasiswa.values()) / len(nilai_mahasiswa)\n",
        "print(f\"Rata-rata nilai: {rata:.2f}\")"
      ],
      "metadata": {
        "colab": {
          "base_uri": "https://localhost:8080/"
        },
        "id": "Ud7Lf_1z7iD9",
        "outputId": "44f52c47-3018-4e0d-b718-94277296063a"
      },
      "execution_count": 7,
      "outputs": [
        {
          "output_type": "stream",
          "name": "stdout",
          "text": [
            "Andi: 85\n",
            "Budi: 90\n",
            "Cici: 78\n",
            "Rata-rata nilai: 84.33\n"
          ]
        }
      ]
    },
    {
      "cell_type": "markdown",
      "source": [
        "# Penugasan 9 - Studi Kasus Set-Klub Mahasiswa #"
      ],
      "metadata": {
        "id": "8T92COh67yg6"
      }
    },
    {
      "cell_type": "code",
      "source": [
        "A = {\"Andi\", \"Budi\", \"Cici\"}\n",
        "B = {\"Cici\", \"Deni\", \"Eka\"}\n",
        "\n",
        "print(\"Union:\", A | B)\n",
        "print(\"Intersection:\", A & B)\n",
        "print(\"Difference:\", A - B)"
      ],
      "metadata": {
        "colab": {
          "base_uri": "https://localhost:8080/"
        },
        "id": "x-N26Gnk76hP",
        "outputId": "0e60f473-43d7-4e5b-ecce-5d312bd1f8ee"
      },
      "execution_count": 8,
      "outputs": [
        {
          "output_type": "stream",
          "name": "stdout",
          "text": [
            "Union: {'Deni', 'Andi', 'Budi', 'Eka', 'Cici'}\n",
            "Intersection: {'Cici'}\n",
            "Difference: {'Andi', 'Budi'}\n"
          ]
        }
      ]
    }
  ]
}