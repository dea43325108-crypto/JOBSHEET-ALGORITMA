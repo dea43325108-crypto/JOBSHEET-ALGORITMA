{
  "cells": [
    {
      "cell_type": "markdown",
      "metadata": {
        "id": "view-in-github",
        "colab_type": "text"
      },
      "source": [
        "<a href=\"https://colab.research.google.com/github/dea43325108-crypto/JOBSHEET-ALGORITMA/blob/main/Jobsheet_3.ipynb\" target=\"_parent\"><img src=\"https://colab.research.google.com/assets/colab-badge.svg\" alt=\"Open In Colab\"/></a>"
      ]
    },
    {
      "cell_type": "markdown",
      "metadata": {
        "id": "9ert4utE45dN"
      },
      "source": [
        "# If Sederhana #"
      ]
    },
    {
      "cell_type": "code",
      "execution_count": null,
      "metadata": {
        "colab": {
          "base_uri": "https://localhost:8080/"
        },
        "id": "CKPVnc6_4zWN",
        "outputId": "1691f25e-d7e3-44dd-b6e6-d96741615878"
      },
      "outputs": [
        {
          "output_type": "stream",
          "name": "stdout",
          "text": [
            "Masukkan nilai ujian: 70\n",
            "Anda LULUS\n"
          ]
        }
      ],
      "source": [
        "nilai = int(input(\"Masukkan nilai ujian: \"))\n",
        "if nilai >= 60:\n",
        "  print(\"Anda LULUS\")"
      ]
    },
    {
      "cell_type": "markdown",
      "metadata": {
        "id": "DsWdEOyd54ir"
      },
      "source": [
        "# If Else #"
      ]
    },
    {
      "cell_type": "code",
      "execution_count": null,
      "metadata": {
        "colab": {
          "base_uri": "https://localhost:8080/"
        },
        "id": "qOrGdCvA5-Pa",
        "outputId": "d2f7aac3-2a4d-4171-cf17-88dcad5d0a99"
      },
      "outputs": [
        {
          "output_type": "stream",
          "name": "stdout",
          "text": [
            "Masukkan nilai ujian: 50\n",
            "anda TIDAK LULUS\n"
          ]
        }
      ],
      "source": [
        "nilai = int(input(\"Masukkan nilai ujian: \"))\n",
        "if nilai >= 60:\n",
        "  print (\"Anda LULUS\")\n",
        "else:\n",
        "  print(\"anda TIDAK LULUS\")"
      ]
    },
    {
      "cell_type": "markdown",
      "metadata": {
        "id": "llZGzagx6hQG"
      },
      "source": [
        "# If-Elif-Else #"
      ]
    },
    {
      "cell_type": "code",
      "execution_count": null,
      "metadata": {
        "colab": {
          "base_uri": "https://localhost:8080/"
        },
        "id": "vxSW7ROw6qOD",
        "outputId": "7255349a-4121-4ec2-9164-8e473e90a280"
      },
      "outputs": [
        {
          "output_type": "stream",
          "name": "stdout",
          "text": [
            "Masukkan nilai akhir: 78\n",
            "Nilai Anda 78, maka grade anda = B\n"
          ]
        }
      ],
      "source": [
        "nilai = int(input(\"Masukkan nilai akhir: \"))\n",
        "\n",
        "if nilai >= 85:\n",
        "  grade = \"A\"\n",
        "elif nilai >= 70:\n",
        "  grade = \"B\"\n",
        "elif nilai >= 55:\n",
        "  grade = \"C\"\n",
        "elif nilai >= 40:\n",
        "  grade = \"D\"\n",
        "else:\n",
        "  grade = \"E\"\n",
        "\n",
        "print(f\"Nilai Anda {nilai}, maka grade anda = {grade}\")"
      ]
    },
    {
      "cell_type": "markdown",
      "metadata": {
        "id": "TBWWpGTb77UA"
      },
      "source": [
        "# Nested-If #"
      ]
    },
    {
      "cell_type": "code",
      "execution_count": null,
      "metadata": {
        "colab": {
          "base_uri": "https://localhost:8080/"
        },
        "id": "bwQ_MBYk7-Mm",
        "outputId": "e9c4039d-f0b6-4481-bb4b-7a2e638bacb5"
      },
      "outputs": [
        {
          "output_type": "stream",
          "name": "stdout",
          "text": [
            "Masukkan IPK: 2.8\n",
            "Masukkan jumlah SKS: 20\n",
            "Anda TIDAK LAYAK mendapatkan beasiswa\n"
          ]
        }
      ],
      "source": [
        "ipk = float(input(\"Masukkan IPK: \"))\n",
        "sks = int(input(\"Masukkan jumlah SKS: \"))\n",
        "\n",
        "if ipk >= 3.0:\n",
        "  if sks >= 18:\n",
        "    print(\"Anda LAYAK mendapat beasiswa\")\n",
        "  else:\n",
        "    print(\"IPK memenuhi, tetapi SKS kurang\")\n",
        "else:\n",
        "  print(\"Anda TIDAK LAYAK mendapatkan beasiswa\")"
      ]
    },
    {
      "cell_type": "markdown",
      "metadata": {
        "id": "twxSB7-AEEYd"
      },
      "source": [
        "# Match-Case #"
      ]
    },
    {
      "cell_type": "code",
      "execution_count": null,
      "metadata": {
        "colab": {
          "base_uri": "https://localhost:8080/"
        },
        "id": "j3mtT8FXETsp",
        "outputId": "15bfc5fc-9053-42f4-ec44-06e3f2df9859"
      },
      "outputs": [
        {
          "output_type": "stream",
          "name": "stdout",
          "text": [
            "Pilih menu(1-3: )9\n",
            "Menu tidak tersedia\n"
          ]
        }
      ],
      "source": [
        "menu=int(input(\"Pilih menu(1-3: )\"))\n",
        "\n",
        "match menu:\n",
        "  case 1:\n",
        "    print(\"Anda memilih nasi goreng\")\n",
        "  case 2:\n",
        "    print(\"Anda memilih Mie Ayam\")\n",
        "  case 3:\n",
        "    print(\"Anda memilih Soto Ayam\")\n",
        "  case _:\n",
        "    print(\"Menu tidak tersedia\")\n"
      ]
    },
    {
      "cell_type": "markdown",
      "metadata": {
        "id": "TZi7g7K-GnWr"
      },
      "source": [
        "# Studi Kasus: Program Kasir #"
      ]
    },
    {
      "cell_type": "code",
      "execution_count": null,
      "metadata": {
        "colab": {
          "base_uri": "https://localhost:8080/"
        },
        "id": "_MiCL_1s-_-u",
        "outputId": "d3832440-2741-40f7-e17b-acd488564127"
      },
      "outputs": [
        {
          "output_type": "stream",
          "name": "stdout",
          "text": [
            "Masukkan nama barang: pilpen\n",
            "Masukan harga barang: 5000\n",
            "Masukkan jumlah barang: 10\n",
            "\n",
            "==== Struk Belanja ====\n",
            "Barang: pilpen\n",
            "Jumlah: 10\n",
            "Total: 50000.0\n",
            "Diskon: 0%\n",
            "Bayar: Rp 50000.0\n"
          ]
        }
      ],
      "source": [
        "barang = input(\"Masukkan nama barang: \")\n",
        "harga = float(input(\"Masukan harga barang: \"))\n",
        "jumlah = int(input(\"Masukkan jumlah barang: \"))\n",
        "total = harga * jumlah\n",
        "\n",
        "if total >= 500000:\n",
        "  diskon = 0.2\n",
        "elif total >= 250000:\n",
        "  diskon = 0.1\n",
        "else:\n",
        "  diskon = 0\n",
        "\n",
        "bayar = total-(total*diskon)\n",
        "\n",
        "print(\"\\n==== Struk Belanja ====\")\n",
        "print(f\"Barang: {barang}\")\n",
        "print(f\"Jumlah: {jumlah}\")\n",
        "print(f\"Total: {total}\")\n",
        "print(f\"Diskon: {diskon * 100}%\")\n",
        "print(f\"Bayar: Rp {bayar}\")"
      ]
    },
    {
      "cell_type": "markdown",
      "metadata": {
        "id": "ie3ORQiRVXIM"
      },
      "source": [
        "# Cek Bilangan Positif/Negatif/Nol #"
      ]
    },
    {
      "cell_type": "code",
      "execution_count": null,
      "metadata": {
        "colab": {
          "base_uri": "https://localhost:8080/"
        },
        "id": "wTlFmSQnVt9W",
        "outputId": "ac27db50-d7c7-4954-eb5a-1cf85a70bc8e"
      },
      "outputs": [
        {
          "name": "stdout",
          "output_type": "stream",
          "text": [
            "Bilangan ini: 20\n",
            "Maka termasuk bilangan: positif\n"
          ]
        }
      ],
      "source": [
        "nilai = int(input(\"Bilangan ini: \"))\n",
        "\n",
        "if nilai > 0:\n",
        "  bilangan = \"positif\"\n",
        "elif nilai < 0:\n",
        "  bilangan = \"negatif\"\n",
        "else:\n",
        "  bilangan = 0\n",
        "\n",
        "print(f\"Maka termasuk bilangan: {bilangan}\")"
      ]
    },
    {
      "cell_type": "markdown",
      "metadata": {
        "id": "0Y7LANYlYfOc"
      },
      "source": [
        "# Menentukan Kategori Usia #"
      ]
    },
    {
      "cell_type": "code",
      "execution_count": null,
      "metadata": {
        "colab": {
          "base_uri": "https://localhost:8080/"
        },
        "id": "rPdw_IhZYkMZ",
        "outputId": "2491558d-2526-44e5-c834-d808befc2336"
      },
      "outputs": [
        {
          "name": "stdout",
          "output_type": "stream",
          "text": [
            "Usia: 2\n",
            "Maka termasuk kategori: balita\n"
          ]
        }
      ],
      "source": [
        "nilai = int(input(\"Usia: \"))\n",
        "\n",
        "if nilai >= 0 and nilai < 5:\n",
        "  kategori = \"balita\"\n",
        "elif nilai >= 5 and nilai <= 11:\n",
        "  kategori = \"anak-anak\"\n",
        "elif nilai >= 12 and nilai <= 17:\n",
        "  kategori = \"remaja\"\n",
        "elif nilai >= 18 and nilai <= 59:\n",
        "  kategori = \"dewasa\"\n",
        "else:\n",
        "  kategori = \"lansia\"\n",
        "\n",
        "print(f\"Maka termasuk kategori: {kategori}\")"
      ]
    },
    {
      "cell_type": "markdown",
      "metadata": {
        "id": "p4PffLolcVY-"
      },
      "source": [
        "# Hitung Tarif Parkir #"
      ]
    },
    {
      "cell_type": "code",
      "execution_count": null,
      "metadata": {
        "colab": {
          "base_uri": "https://localhost:8080/"
        },
        "id": "Om1sdvVZcbPz",
        "outputId": "d3480554-cb6e-4f5f-ca7f-aab0a4651ada"
      },
      "outputs": [
        {
          "output_type": "stream",
          "name": "stdout",
          "text": [
            "Masukkan lama parkir (dalam jam): 4\n",
            "Tarif parkir: Rp 9000\n"
          ]
        }
      ],
      "source": [
        "lama_parkir = int(input(\"Masukkan lama parkir (dalam jam): \"))\n",
        "\n",
        "if lama_parkir <= 2:\n",
        "    tarif = 5000\n",
        "elif lama_parkir > 2:\n",
        "    tarif = 5000 + (lama_parkir - 2) * 2000\n",
        "    if tarif > 20000:\n",
        "        tarif = 20000\n",
        "else:\n",
        "    tarif = 0\n",
        "\n",
        "print(\"Tarif parkir: Rp\", tarif)"
      ]
    },
    {
      "cell_type": "markdown",
      "source": [
        "# Cek Login Sederhana #"
      ],
      "metadata": {
        "id": "ipAQ8hXyUYvv"
      }
    },
    {
      "cell_type": "code",
      "source": [
        "username = input(\"Masukkan username: \")\n",
        "password = input(\"Masukkan password: \")\n",
        "\n",
        "if username == \"admin\" and password == \"1234\":\n",
        "    print(\"Login berhasil\")\n",
        "else:\n",
        "    print(\"Login gagal\")"
      ],
      "metadata": {
        "colab": {
          "base_uri": "https://localhost:8080/"
        },
        "id": "o7GRaxsCUcUB",
        "outputId": "cdc36288-5633-43dd-a2f2-e7e1beee6487"
      },
      "execution_count": null,
      "outputs": [
        {
          "output_type": "stream",
          "name": "stdout",
          "text": [
            "Masukkan username: dea\n",
            "Masukkan password: 2345\n",
            "Login gagal\n"
          ]
        }
      ]
    },
    {
      "cell_type": "markdown",
      "source": [
        "# One-Linear-If #"
      ],
      "metadata": {
        "id": "I1SqPQxcV6Wz"
      }
    },
    {
      "cell_type": "code",
      "source": [
        "bil = int(input(\"Masukkan bilangan: \"))\n",
        "hasil = \"Genap\" if bil % 2 == 0 else \"Ganjil\"\n",
        "print(\"Bilangan tersebut adalah\", hasil)"
      ],
      "metadata": {
        "colab": {
          "base_uri": "https://localhost:8080/"
        },
        "id": "ndp38xH9WY7q",
        "outputId": "a67ea38c-5f33-4fcc-c2dc-5a510bdc9226"
      },
      "execution_count": null,
      "outputs": [
        {
          "output_type": "stream",
          "name": "stdout",
          "text": [
            "Masukkan bilangan: 21\n",
            "Bilangan tersebut adalah Ganjil\n"
          ]
        }
      ]
    },
    {
      "cell_type": "markdown",
      "source": [
        "# Menu Restoran dengan Match-Case #"
      ],
      "metadata": {
        "id": "MhDsTrlJW21X"
      }
    },
    {
      "cell_type": "code",
      "source": [
        "menu=int(input(\"Pilih menu(1-3: )\"))\n",
        "\n",
        "match menu:\n",
        "  case 1:\n",
        "    print(\"Anda memilih nasi goreng\")\n",
        "  case 2:\n",
        "    print(\"Anda memilih Mie Ayam\")\n",
        "  case 3:\n",
        "    print(\"Anda memilih Soto Ayam\")\n",
        "  case _:\n",
        "    print(\"Menu tidak tersedia\")"
      ],
      "metadata": {
        "colab": {
          "base_uri": "https://localhost:8080/"
        },
        "id": "kTEqucshW-To",
        "outputId": "8c8a29c0-6770-4be1-b8af-5f0b7389ce1c"
      },
      "execution_count": null,
      "outputs": [
        {
          "output_type": "stream",
          "name": "stdout",
          "text": [
            "Pilih menu(1-3: )4\n",
            "Menu tidak tersedia\n"
          ]
        }
      ]
    },
    {
      "cell_type": "markdown",
      "source": [
        "# Studi Kasus Nyata - Program Penentuan Diskon #"
      ],
      "metadata": {
        "id": "Hl3Xvk1XZGGe"
      }
    },
    {
      "cell_type": "code",
      "source": [
        "barang = input(\"Masukkan nama barang: \")\n",
        "harga = float(input(\"Masukan harga barang: \"))\n",
        "jumlah = int(input(\"Masukkan jumlah barang: \"))\n",
        "total = harga * jumlah\n",
        "\n",
        "if total >= 500000:\n",
        "  diskon = 0.2\n",
        "elif total >= 250000:\n",
        "  diskon = 0.1\n",
        "else:\n",
        "  diskon = 0\n",
        "\n",
        "bayar = total-(total*diskon)\n",
        "\n",
        "print(\"\\n==== Struk Belanja ====\")\n",
        "print(f\"Barang: {barang}\")\n",
        "print(f\"Jumlah: {jumlah}\")\n",
        "print(f\"Total: {total}\")\n",
        "print(f\"Diskon: {diskon * 100}%\")\n",
        "print(f\"Bayar: Rp {bayar}\")"
      ],
      "metadata": {
        "colab": {
          "base_uri": "https://localhost:8080/"
        },
        "id": "Lr4JrypQZl7f",
        "outputId": "48c389d2-b8e1-4d8a-ffdb-839346ee36e5"
      },
      "execution_count": null,
      "outputs": [
        {
          "output_type": "stream",
          "name": "stdout",
          "text": [
            "Masukkan nama barang: kemeja\n",
            "Masukan harga barang: 750000\n",
            "Masukkan jumlah barang: 2\n",
            "\n",
            "==== Struk Belanja ====\n",
            "Barang: kemeja\n",
            "Jumlah: 2\n",
            "Total: 1500000.0\n",
            "Diskon: 20.0%\n",
            "Bayar: Rp 1200000.0\n"
          ]
        }
      ]
    }
  ],
  "metadata": {
    "colab": {
      "provenance": [],
      "authorship_tag": "ABX9TyOVtVN+B20tFfm9gY33E3/u",
      "include_colab_link": true
    },
    "kernelspec": {
      "display_name": "Python 3",
      "name": "python3"
    },
    "language_info": {
      "name": "python"
    }
  },
  "nbformat": 4,
  "nbformat_minor": 0
}