{
  "nbformat": 4,
  "nbformat_minor": 0,
  "metadata": {
    "colab": {
      "provenance": [],
      "authorship_tag": "ABX9TyNNvnZxrAbBdvWGC2J9ro3p",
      "include_colab_link": true
    },
    "kernelspec": {
      "name": "python3",
      "display_name": "Python 3"
    },
    "language_info": {
      "name": "python"
    }
  },
  "cells": [
    {
      "cell_type": "markdown",
      "metadata": {
        "id": "view-in-github",
        "colab_type": "text"
      },
      "source": [
        "<a href=\"https://colab.research.google.com/github/dea43325108-crypto/JOBSHEET-ALGORITMA/blob/main/Jobsheet_4.ipynb\" target=\"_parent\"><img src=\"https://colab.research.google.com/assets/colab-badge.svg\" alt=\"Open In Colab\"/></a>"
      ]
    },
    {
      "cell_type": "markdown",
      "source": [
        "# Praktikum 01 - Perulangan For dengan Range #"
      ],
      "metadata": {
        "id": "QIsh2O_UhjfZ"
      }
    },
    {
      "cell_type": "code",
      "execution_count": 3,
      "metadata": {
        "colab": {
          "base_uri": "https://localhost:8080/"
        },
        "id": "kXTCRpOvg225",
        "outputId": "a93e15e2-912f-495f-9b89-bc04af3fdeb8"
      },
      "outputs": [
        {
          "output_type": "stream",
          "name": "stdout",
          "text": [
            "1\n",
            "2\n",
            "3\n",
            "4\n"
          ]
        }
      ],
      "source": [
        "for i in range (1, 5):\n",
        "  print (i)"
      ]
    },
    {
      "cell_type": "markdown",
      "source": [
        "# Praktikum 02 - Perulangan While #"
      ],
      "metadata": {
        "id": "-J9w_unFiips"
      }
    },
    {
      "cell_type": "code",
      "source": [
        "n = int (input(\"Masukkan angka: \"))\n",
        "while n > 0:\n",
        "  print (n)\n",
        "  n -= 1"
      ],
      "metadata": {
        "colab": {
          "base_uri": "https://localhost:8080/"
        },
        "id": "O5xH4Vjcip5w",
        "outputId": "680ab8ca-e9fa-40cd-c107-d46c1f824faa"
      },
      "execution_count": null,
      "outputs": [
        {
          "output_type": "stream",
          "name": "stdout",
          "text": [
            "Masukkan angka: 5\n",
            "5\n",
            "4\n",
            "3\n",
            "2\n",
            "1\n"
          ]
        }
      ]
    },
    {
      "cell_type": "markdown",
      "source": [
        "# Praktikum 03 - Nested Loop (Segitiga Bintang) #"
      ],
      "metadata": {
        "id": "7D3mtBjJi-ch"
      }
    },
    {
      "cell_type": "code",
      "source": [
        "for i in range(1, 5):\n",
        "  for j in range (i):\n",
        "    print (\"*\", end=\"\")\n",
        "  print ()"
      ],
      "metadata": {
        "colab": {
          "base_uri": "https://localhost:8080/"
        },
        "id": "NiDP6idbjbRH",
        "outputId": "adb8738b-4055-40d1-b36f-8a42bbcffa03"
      },
      "execution_count": 2,
      "outputs": [
        {
          "output_type": "stream",
          "name": "stdout",
          "text": [
            "*\n",
            "**\n",
            "***\n",
            "****\n"
          ]
        }
      ]
    },
    {
      "cell_type": "markdown",
      "source": [
        "# Praktikum 04 - Break #"
      ],
      "metadata": {
        "id": "HFRBRyfhj1zl"
      }
    },
    {
      "cell_type": "code",
      "source": [
        "# Break\n",
        "for i in range(1, 10):\n",
        "  print(i)\n",
        "  if i == 5:\n",
        "    print(\"Angka 5 ditemukan\")\n",
        "    break"
      ],
      "metadata": {
        "id": "_urEIWbAj6d3",
        "colab": {
          "base_uri": "https://localhost:8080/"
        },
        "outputId": "f9aaf1bc-0c06-4f55-dd88-ee33c5264fee"
      },
      "execution_count": 6,
      "outputs": [
        {
          "output_type": "stream",
          "name": "stdout",
          "text": [
            "1\n",
            "2\n",
            "3\n",
            "4\n",
            "5\n",
            "Angka 5 ditemukan\n"
          ]
        }
      ]
    },
    {
      "cell_type": "code",
      "source": [
        "# Continue\n",
        "for i in range(1, 5):\n",
        "  if i % 2 == 1:\n",
        "    continue\n",
        "  print (i)"
      ],
      "metadata": {
        "colab": {
          "base_uri": "https://localhost:8080/"
        },
        "id": "gmAWs_XHkXrN",
        "outputId": "cadc31ad-2170-4b0a-fbce-d2701079ab04"
      },
      "execution_count": 7,
      "outputs": [
        {
          "output_type": "stream",
          "name": "stdout",
          "text": [
            "2\n",
            "4\n"
          ]
        }
      ]
    },
    {
      "cell_type": "markdown",
      "source": [
        "# Praktikum 05 - For pada Dictionary #"
      ],
      "metadata": {
        "id": "eA0PADk7k3DV"
      }
    },
    {
      "cell_type": "code",
      "source": [
        "data = {\"Nama\": \"Andi\", \"Umur\": 20, \"Prodi\": \"TRK\"}\n",
        "\n",
        "for k, v in data.items():\n",
        "  print(k, \":\", v)"
      ],
      "metadata": {
        "colab": {
          "base_uri": "https://localhost:8080/"
        },
        "id": "9ufA8wp1lACD",
        "outputId": "511ca623-1175-4b4f-8fed-0397d6443a0a"
      },
      "execution_count": null,
      "outputs": [
        {
          "output_type": "stream",
          "name": "stdout",
          "text": [
            "Nama : Andi\n",
            "Umur : 20\n",
            "Prodi : TRK\n"
          ]
        }
      ]
    },
    {
      "cell_type": "markdown",
      "source": [
        "# Praktikum 06 - For dengan Enumerate #"
      ],
      "metadata": {
        "id": "xbzAsKs9l_f6"
      }
    },
    {
      "cell_type": "code",
      "source": [
        "daftar = [\"Andi\", \"Budi\", \"Cici\"]\n",
        "\n",
        "for i, nama in enumerate(daftar, start=1):\n",
        "  print (i, nama)"
      ],
      "metadata": {
        "colab": {
          "base_uri": "https://localhost:8080/"
        },
        "id": "A16mN_o3mGJC",
        "outputId": "6553cc8c-3380-458d-d9a0-ba58577736fa"
      },
      "execution_count": null,
      "outputs": [
        {
          "output_type": "stream",
          "name": "stdout",
          "text": [
            "1 Andi\n",
            "2 Budi\n",
            "3 Cici\n"
          ]
        }
      ]
    },
    {
      "cell_type": "markdown",
      "source": [
        "# Praktikum 07 - Studi Kasus: Program Kasir Multi-Item #"
      ],
      "metadata": {
        "id": "ss1_Cu0qmatn"
      }
    },
    {
      "cell_type": "code",
      "source": [
        "total = 0\n",
        "\n",
        "while True:\n",
        "  barang = input(\"Masukkan nama barang (ketik 'selesai' untuk berhenti): \")\n",
        "  if barang.lower() == \"selesai\":\n",
        "    break\n",
        "\n",
        "  harga = float(input(f\"Masukkan harga {barang}: \"))\n",
        "  jumlah = int(input(f\"Masukkan jumlah {barang}: \"))\n",
        "  subtotal = harga * jumlah\n",
        "  total += subtotal\n",
        "\n",
        "  print(\"\\n===== Struk Belanja =====\")\n",
        "  print(f\"Total Belanja : Rp {total}\")"
      ],
      "metadata": {
        "colab": {
          "base_uri": "https://localhost:8080/"
        },
        "id": "skKbwrlHmkN7",
        "outputId": "f060f89b-d436-45af-e61e-24d9decda047"
      },
      "execution_count": 9,
      "outputs": [
        {
          "name": "stdout",
          "output_type": "stream",
          "text": [
            "Masukkan nama barang (ketik 'selesai' untuk berhenti): Buku\n",
            "Masukkan harga Buku: 50000\n",
            "Masukkan jumlah Buku: 2\n",
            "\n",
            "===== Struk Belanja =====\n",
            "Total Belanja : Rp 100000.0\n",
            "Masukkan nama barang (ketik 'selesai' untuk berhenti): Pulpen\n",
            "Masukkan harga Pulpen: 5000\n",
            "Masukkan jumlah Pulpen: 3\n",
            "\n",
            "===== Struk Belanja =====\n",
            "Total Belanja : Rp 115000.0\n",
            "Masukkan nama barang (ketik 'selesai' untuk berhenti): selesai\n"
          ]
        }
      ]
    },
    {
      "cell_type": "markdown",
      "source": [
        "# Penugasan 3 - Menampilkan Deret Angka #"
      ],
      "metadata": {
        "id": "mvRShN9qxEdV"
      }
    },
    {
      "cell_type": "code",
      "source": [
        "for i in range(3, 30, 3):\n",
        "  print(i)"
      ],
      "metadata": {
        "colab": {
          "base_uri": "https://localhost:8080/"
        },
        "id": "mdVxXCvSxOWM",
        "outputId": "2815f1d6-eb3b-4b1e-ca7d-a30ef9d1dd98"
      },
      "execution_count": null,
      "outputs": [
        {
          "output_type": "stream",
          "name": "stdout",
          "text": [
            "3\n",
            "6\n",
            "9\n",
            "12\n",
            "15\n",
            "18\n",
            "21\n",
            "24\n",
            "27\n"
          ]
        }
      ]
    },
    {
      "cell_type": "markdown",
      "source": [
        "# Penugasan 4 - Hitung Faktorial #"
      ],
      "metadata": {
        "id": "E4CsVtN7y-6-"
      }
    },
    {
      "cell_type": "code",
      "source": [
        "n = int(input(\"Masukkan bilangan: \"))\n",
        "faktorial = 1\n",
        "i = 1\n",
        "\n",
        "while i <= n:\n",
        "  faktorial *=i\n",
        "  i += 1\n",
        "\n",
        "print(f\"Faktorial dari {n} adalah {faktorial}\")"
      ],
      "metadata": {
        "colab": {
          "base_uri": "https://localhost:8080/"
        },
        "id": "AN-IpuCRg7Ta",
        "outputId": "eecbb9a5-cfde-42ed-cbaf-4066d6eef939"
      },
      "execution_count": 11,
      "outputs": [
        {
          "output_type": "stream",
          "name": "stdout",
          "text": [
            "Masukkan bilangan: 5\n",
            "Faktorial dari 5 adalah 120\n"
          ]
        }
      ]
    },
    {
      "cell_type": "markdown",
      "source": [
        "# Penugasan 5 - Pola Segitiga Terbalik #"
      ],
      "metadata": {
        "id": "wIFTfrM6kOH0"
      }
    },
    {
      "cell_type": "code",
      "source": [
        "tinggi = 5\n",
        "\n",
        "for i in range(tinggi, 0, -1):\n",
        "  for j in range (i):\n",
        "    print (\"*\", end=\"\")\n",
        "  print ()"
      ],
      "metadata": {
        "id": "k4Tp-eZ83mkW",
        "colab": {
          "base_uri": "https://localhost:8080/"
        },
        "outputId": "de378e30-a07a-4f6a-aa09-fa92e6a6fd40"
      },
      "execution_count": 15,
      "outputs": [
        {
          "output_type": "stream",
          "name": "stdout",
          "text": [
            "*****\n",
            "****\n",
            "***\n",
            "**\n",
            "*\n"
          ]
        }
      ]
    },
    {
      "cell_type": "markdown",
      "source": [
        "# Penugasan 6 - Cari Bilangan Prima dengan Break #"
      ],
      "metadata": {
        "id": "GvZtBdC34NOP"
      }
    },
    {
      "cell_type": "code",
      "source": [
        "bilangan = int(input(\"Masukkan sebuah bilangan: \"))\n",
        "is_prima = True\n",
        "\n",
        "if bilangan > 1:\n",
        "  for i in range(2, bilangan):\n",
        "    if bilangan % i == 0:\n",
        "\n",
        "      is_prima = False\n",
        "      break\n",
        "if is_prima:\n",
        "  print(f\"{bilangan} adalah bilangan prima\")\n",
        "else:\n",
        "  print(f\"{bilangan} bukan bilangan prima\")"
      ],
      "metadata": {
        "id": "hluXXAFA4Vsg",
        "colab": {
          "base_uri": "https://localhost:8080/"
        },
        "outputId": "12a5b8c9-eb90-4e9e-f96b-1b0cd483d87c"
      },
      "execution_count": 3,
      "outputs": [
        {
          "output_type": "stream",
          "name": "stdout",
          "text": [
            "Masukkan sebuah bilangan: 10\n",
            "10 bukan bilangan prima\n"
          ]
        }
      ]
    },
    {
      "cell_type": "markdown",
      "source": [
        "# Penugasan 7 - Tampilkan Hanya Bilangan Genap dengan Continue #"
      ],
      "metadata": {
        "id": "wxlIxIlL54ip"
      }
    },
    {
      "cell_type": "code",
      "source": [
        "for i in range(1, 21):\n",
        "  if i % 2!= 0:\n",
        "    continue\n",
        "  print(i)"
      ],
      "metadata": {
        "id": "zrNBVLAW6EEq",
        "colab": {
          "base_uri": "https://localhost:8080/"
        },
        "outputId": "5f40166d-3412-4fe1-9a00-628e44510acf"
      },
      "execution_count": 20,
      "outputs": [
        {
          "output_type": "stream",
          "name": "stdout",
          "text": [
            "2\n",
            "4\n",
            "6\n",
            "8\n",
            "10\n",
            "12\n",
            "14\n",
            "16\n",
            "18\n",
            "20\n"
          ]
        }
      ]
    },
    {
      "cell_type": "markdown",
      "source": [
        "# Penugasan 8 - Literasi Dictionary Mahasiswa #"
      ],
      "metadata": {
        "id": "ySNE_yqM6pSZ"
      }
    },
    {
      "cell_type": "code",
      "source": [
        "data = {\"Nama\": \"Budi\", \"Umur\": 21, \"Prodi\": \"Teknik Komputer\"}\n",
        "\n",
        "for k, v in data.items():\n",
        "  print(k, \":\", v)"
      ],
      "metadata": {
        "id": "qDb3dB_i68_C",
        "colab": {
          "base_uri": "https://localhost:8080/"
        },
        "outputId": "03eb53d5-59b2-4a71-fd99-71777759af22"
      },
      "execution_count": 21,
      "outputs": [
        {
          "output_type": "stream",
          "name": "stdout",
          "text": [
            "Nama : Budi\n",
            "Umur : 21\n",
            "Prodi : Teknik Komputer\n"
          ]
        }
      ]
    },
    {
      "cell_type": "markdown",
      "source": [
        "# Penugasan 9 - Enumerate Daftar Barang #"
      ],
      "metadata": {
        "id": "gr-XXSwY7d1k"
      }
    },
    {
      "cell_type": "code",
      "source": [
        "daftar = [\"Buku\", \"Pulpen\", \"Tas\"]\n",
        "\n",
        "for i, nama in enumerate(daftar, start=1):\n",
        "  print(i, nama)"
      ],
      "metadata": {
        "id": "KG8UE75D7mnv",
        "colab": {
          "base_uri": "https://localhost:8080/"
        },
        "outputId": "66a43c2d-49f2-472d-8bfe-a3bb85579aca"
      },
      "execution_count": 26,
      "outputs": [
        {
          "output_type": "stream",
          "name": "stdout",
          "text": [
            "1 Buku\n",
            "2 Pulpen\n",
            "3 Tas\n"
          ]
        }
      ]
    },
    {
      "cell_type": "markdown",
      "source": [
        "# Penugasan 10 - Studi Kasus Kasir Diskon #"
      ],
      "metadata": {
        "id": "-jWEiC6u8aJw"
      }
    },
    {
      "cell_type": "code",
      "source": [
        "total = 0\n",
        "barang_list = []\n",
        "\n",
        "while True:\n",
        "  nama_barang = input(\"Masukkan nama barang: \")\n",
        "  if nama_barang.lower() ==\"selesai\":\n",
        "    break\n",
        "\n",
        "  harga = int(input(\"Masukan harga barang (Rp): \"))\n",
        "  jumlah = int(input(\"Masukkan jumlah barang: \"))\n",
        "  subtotal = harga * jumlah\n",
        "  total += subtotal\n",
        "  barang_list.append((nama_barang, harga, jumlah, subtotal))\n",
        "\n",
        "print(\" ===== Struk Belanja =====\")\n",
        "for barang, harga, jumlah, subtotal in barang_list:\n",
        "  print(f\"{barang} (x{jumlah}) - Rp{harga:,} = Rp{subtotal:,}\")\n",
        "\n",
        "print(\"-------------------------\")\n",
        "print(f\"Total Belanja: Rp{total:,}\")\n",
        "\n",
        "if total >= 200000:\n",
        "  diskon = total * 0.10\n",
        "  total_setelah_diskon = total - diskon\n",
        "  print(f\"Diskon 10%: Rp{diskon:,}\")\n",
        "  print(f\"Total Akhir: Rp{total_setelah_diskon:,}\")\n",
        "else:\n",
        "  print(\"Diskon: Tidak ada\")\n",
        "  print(f\"Total Akhir: Rp{total:,}\")"
      ],
      "metadata": {
        "id": "vEh63pUm8hsh",
        "colab": {
          "base_uri": "https://localhost:8080/"
        },
        "outputId": "438ef4dd-ff10-4e38-f774-e0050eea8571"
      },
      "execution_count": 1,
      "outputs": [
        {
          "output_type": "stream",
          "name": "stdout",
          "text": [
            "Masukkan nama barang: Penggaris\n",
            "Masukan harga barang (Rp): 3000\n",
            "Masukkan jumlah barang: 2\n",
            "Masukkan nama barang: tas\n",
            "Masukan harga barang (Rp): 700000\n",
            "Masukkan jumlah barang: 1\n",
            "Masukkan nama barang: selesai\n",
            " ===== Struk Belanja =====\n",
            "Penggaris (x2) - Rp3,000 = Rp6,000\n",
            "tas (x1) - Rp700,000 = Rp700,000\n",
            "-------------------------\n",
            "Total Belanja: Rp706,000\n",
            "Diskon 10%: Rp70,600.0\n",
            "Total Akhir: Rp635,400.0\n"
          ]
        }
      ]
    }
  ]
}