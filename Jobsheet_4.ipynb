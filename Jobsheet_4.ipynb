{
  "nbformat": 4,
  "nbformat_minor": 0,
  "metadata": {
    "colab": {
      "provenance": [],
      "authorship_tag": "ABX9TyObxNEUADFrHF1g5RtlGz6+",
      "include_colab_link": true
    },
    "kernelspec": {
      "name": "python3",
      "display_name": "Python 3"
    },
    "language_info": {
      "name": "python"
    }
  },
  "cells": [
    {
      "cell_type": "markdown",
      "metadata": {
        "id": "view-in-github",
        "colab_type": "text"
      },
      "source": [
        "<a href=\"https://colab.research.google.com/github/dea43325108-crypto/JOBSHEET-ALGORITMA/blob/main/Jobsheet_4.ipynb\" target=\"_parent\"><img src=\"https://colab.research.google.com/assets/colab-badge.svg\" alt=\"Open In Colab\"/></a>"
      ]
    },
    {
      "cell_type": "markdown",
      "source": [
        "# Perulangan For dengan Range #"
      ],
      "metadata": {
        "id": "QIsh2O_UhjfZ"
      }
    },
    {
      "cell_type": "code",
      "execution_count": 2,
      "metadata": {
        "colab": {
          "base_uri": "https://localhost:8080/"
        },
        "id": "kXTCRpOvg225",
        "outputId": "f8052d27-9e80-4adc-e340-ea71870a0137"
      },
      "outputs": [
        {
          "output_type": "stream",
          "name": "stdout",
          "text": [
            "1\n",
            "2\n",
            "3\n",
            "4\n",
            "5\n"
          ]
        }
      ],
      "source": [
        "for i in range (1, 6):\n",
        "  print (i)"
      ]
    },
    {
      "cell_type": "markdown",
      "source": [
        "# Perulangan While #"
      ],
      "metadata": {
        "id": "-J9w_unFiips"
      }
    },
    {
      "cell_type": "code",
      "source": [
        "n = int (input(\"Masukkan angka: \"))\n",
        "while n > 0:\n",
        "  print (n)\n",
        "  n -= 1"
      ],
      "metadata": {
        "colab": {
          "base_uri": "https://localhost:8080/"
        },
        "id": "O5xH4Vjcip5w",
        "outputId": "680ab8ca-e9fa-40cd-c107-d46c1f824faa"
      },
      "execution_count": 17,
      "outputs": [
        {
          "output_type": "stream",
          "name": "stdout",
          "text": [
            "Masukkan angka: 5\n",
            "5\n",
            "4\n",
            "3\n",
            "2\n",
            "1\n"
          ]
        }
      ]
    },
    {
      "cell_type": "markdown",
      "source": [
        "# Nested Loop (Segitiga Bintang) #"
      ],
      "metadata": {
        "id": "7D3mtBjJi-ch"
      }
    },
    {
      "cell_type": "code",
      "source": [
        "for i in range(1, 6):\n",
        "  for j in range (i):\n",
        "    print (\"*\", end=\"\")\n",
        "  print ()"
      ],
      "metadata": {
        "colab": {
          "base_uri": "https://localhost:8080/"
        },
        "id": "NiDP6idbjbRH",
        "outputId": "f8bb9ecc-a5d9-45cc-eee2-968b59fda58f"
      },
      "execution_count": 4,
      "outputs": [
        {
          "output_type": "stream",
          "name": "stdout",
          "text": [
            "*\n",
            "**\n",
            "***\n",
            "****\n",
            "*****\n"
          ]
        }
      ]
    },
    {
      "cell_type": "markdown",
      "source": [
        "# Break dan Continue #"
      ],
      "metadata": {
        "id": "HFRBRyfhj1zl"
      }
    },
    {
      "cell_type": "code",
      "source": [
        "# Break\n",
        "for i in range(1, 10, 1):\n",
        "  if i == 10:\n",
        "    print (i)\n",
        "    break"
      ],
      "metadata": {
        "id": "_urEIWbAj6d3"
      },
      "execution_count": 20,
      "outputs": []
    },
    {
      "cell_type": "code",
      "source": [
        "# Continue\n",
        "for i in range(1, 6):\n",
        "  if i % 1 == 1:\n",
        "    continue\n",
        "  print (i)"
      ],
      "metadata": {
        "colab": {
          "base_uri": "https://localhost:8080/"
        },
        "id": "gmAWs_XHkXrN",
        "outputId": "5f08269e-4f88-4e8c-931f-1779e5e8405b"
      },
      "execution_count": 10,
      "outputs": [
        {
          "output_type": "stream",
          "name": "stdout",
          "text": [
            "1\n",
            "2\n",
            "3\n",
            "4\n",
            "5\n"
          ]
        }
      ]
    },
    {
      "cell_type": "markdown",
      "source": [
        "# For pada Dictionary #"
      ],
      "metadata": {
        "id": "eA0PADk7k3DV"
      }
    },
    {
      "cell_type": "code",
      "source": [
        "data = {\"Nama\": \"Andi\", \"Umur\": 20, \"Prodi\": \"TRK\"}\n",
        "\n",
        "for k, v in data.items():\n",
        "  print(k, \":\", v)"
      ],
      "metadata": {
        "colab": {
          "base_uri": "https://localhost:8080/"
        },
        "id": "9ufA8wp1lACD",
        "outputId": "511ca623-1175-4b4f-8fed-0397d6443a0a"
      },
      "execution_count": 7,
      "outputs": [
        {
          "output_type": "stream",
          "name": "stdout",
          "text": [
            "Nama : Andi\n",
            "Umur : 20\n",
            "Prodi : TRK\n"
          ]
        }
      ]
    },
    {
      "cell_type": "markdown",
      "source": [
        "# For dengan Enumerate #"
      ],
      "metadata": {
        "id": "xbzAsKs9l_f6"
      }
    },
    {
      "cell_type": "code",
      "source": [
        "daftar = [\"Andi\", \"Budi\", \"Cici\"]\n",
        "\n",
        "for i, nama in enumerate(daftar, start=1):\n",
        "  print (i, nama)"
      ],
      "metadata": {
        "colab": {
          "base_uri": "https://localhost:8080/"
        },
        "id": "A16mN_o3mGJC",
        "outputId": "6553cc8c-3380-458d-d9a0-ba58577736fa"
      },
      "execution_count": 8,
      "outputs": [
        {
          "output_type": "stream",
          "name": "stdout",
          "text": [
            "1 Andi\n",
            "2 Budi\n",
            "3 Cici\n"
          ]
        }
      ]
    },
    {
      "cell_type": "markdown",
      "source": [
        "# Studi Kasus: Program Kasir Multi-Item #"
      ],
      "metadata": {
        "id": "ss1_Cu0qmatn"
      }
    },
    {
      "cell_type": "code",
      "source": [
        "total = 0\n",
        "\n",
        "while True:\n",
        "  barang = input(\"Masukkan nama barang (ketik 'selesai' untuk berhenti): \")\n",
        "  if barang.lower() == \"selesai\":\n",
        "    break\n",
        "  harga = float(input(f\"Masukkan harga {barang}: \"))\n",
        "  jumlah = int(input(f\"Masukkan jumlah {barang}: \"))\n",
        "  subtotal = harga * jumlah\n",
        "  total += subtotal\n",
        "\n",
        "  print(\"\\n===== Struk Belanja =====\")\n",
        "  print(f\"Total Belanja : Rp {total}\")"
      ],
      "metadata": {
        "colab": {
          "base_uri": "https://localhost:8080/"
        },
        "id": "skKbwrlHmkN7",
        "outputId": "7c16224f-efac-466f-d4ac-732271f4f804"
      },
      "execution_count": 9,
      "outputs": [
        {
          "name": "stdout",
          "output_type": "stream",
          "text": [
            "Masukkan nama barang (ketik 'selesai' untuk berhenti): buku\n",
            "Masukkan harga buku: 50000\n",
            "Masukkan jumlah buku: 2\n",
            "\n",
            "===== Struk Belanja =====\n",
            "Total Belanja : Rp 100000.0\n",
            "Masukkan nama barang (ketik 'selesai' untuk berhenti): pulpen\n",
            "Masukkan harga pulpen: 5000\n",
            "Masukkan jumlah pulpen: 3\n",
            "\n",
            "===== Struk Belanja =====\n",
            "Total Belanja : Rp 115000.0\n",
            "Masukkan nama barang (ketik 'selesai' untuk berhenti): selesai\n"
          ]
        }
      ]
    },
    {
      "cell_type": "markdown",
      "source": [],
      "metadata": {
        "id": "wIFTfrM6kOH0"
      }
    }
  ]
}