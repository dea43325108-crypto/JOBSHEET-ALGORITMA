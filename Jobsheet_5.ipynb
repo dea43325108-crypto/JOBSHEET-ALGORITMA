{
  "nbformat": 4,
  "nbformat_minor": 0,
  "metadata": {
    "colab": {
      "provenance": [],
      "authorship_tag": "ABX9TyMysGdmWKCDIYpdq/CTv6dn",
      "include_colab_link": true
    },
    "kernelspec": {
      "name": "python3",
      "display_name": "Python 3"
    },
    "language_info": {
      "name": "python"
    }
  },
  "cells": [
    {
      "cell_type": "markdown",
      "metadata": {
        "id": "view-in-github",
        "colab_type": "text"
      },
      "source": [
        "<a href=\"https://colab.research.google.com/github/dea43325108-crypto/JOBSHEET-ALGORITMA/blob/main/Jobsheet_5.ipynb\" target=\"_parent\"><img src=\"https://colab.research.google.com/assets/colab-badge.svg\" alt=\"Open In Colab\"/></a>"
      ]
    },
    {
      "cell_type": "markdown",
      "source": [
        "# Praktikum 01 - Indexing dan Slicing #"
      ],
      "metadata": {
        "id": "aRXz3bHTucNo"
      }
    },
    {
      "cell_type": "code",
      "execution_count": 1,
      "metadata": {
        "colab": {
          "base_uri": "https://localhost:8080/"
        },
        "id": "EnfsjLP5uTij",
        "outputId": "65f89e90-f96d-4de6-8b07-2dbeb0c89114"
      },
      "outputs": [
        {
          "output_type": "stream",
          "name": "stdout",
          "text": [
            "P\n",
            "Politeknik \n",
            "Semarang\n"
          ]
        }
      ],
      "source": [
        "teks = \"Politeknik Negeri Semarang\"\n",
        "print(teks[0])    #P\n",
        "print(teks[0:11]) #Politeknik\n",
        "print(teks[-8:])  #Semarang"
      ]
    },
    {
      "cell_type": "markdown",
      "source": [
        "# Praktikum 02 - Method Bawaan String #"
      ],
      "metadata": {
        "id": "-MqJ8pKMvUof"
      }
    },
    {
      "cell_type": "code",
      "source": [
        "teks = \" Politeknik Negeri Semarang \"\n",
        "print(teks.upper ())\n",
        "print(teks.lower ())\n",
        "print(teks.title ())\n",
        "print(teks.strip ())\n",
        "print(teks.split ())\n",
        "print(\"-\".join([\"Politeknik\",\"Negeri\",\"Semarang\"]))"
      ],
      "metadata": {
        "id": "y5O7kBmTvYu6",
        "colab": {
          "base_uri": "https://localhost:8080/"
        },
        "outputId": "89f6e566-51d4-45fb-9544-00a4f62cddeb"
      },
      "execution_count": 2,
      "outputs": [
        {
          "output_type": "stream",
          "name": "stdout",
          "text": [
            " POLITEKNIK NEGERI SEMARANG \n",
            " politeknik negeri semarang \n",
            " Politeknik Negeri Semarang \n",
            "Politeknik Negeri Semarang\n",
            "['Politeknik', 'Negeri', 'Semarang']\n",
            "Politeknik-Negeri-Semarang\n"
          ]
        }
      ]
    },
    {
      "cell_type": "markdown",
      "source": [
        "# Praktikum 03 - Validasi Password #"
      ],
      "metadata": {
        "id": "SUkKzzwYdPX8"
      }
    },
    {
      "cell_type": "code",
      "source": [
        "password = input(\"Masukkan password: \")\n",
        "\n",
        "if len(password) >= 8:\n",
        "  print(\"Password valid\")\n",
        "else:\n",
        "  print(\"Password terlalu pendek\")"
      ],
      "metadata": {
        "colab": {
          "base_uri": "https://localhost:8080/"
        },
        "id": "i2pVvDQbdU6D",
        "outputId": "8abdf9ae-3a87-4793-ded4-a1e5b6faf373"
      },
      "execution_count": 3,
      "outputs": [
        {
          "output_type": "stream",
          "name": "stdout",
          "text": [
            "Masukkan password: abc\n",
            "Password terlalu pendek\n"
          ]
        }
      ]
    },
    {
      "cell_type": "markdown",
      "source": [
        "# Praktikum 04 - String Formatting dengan F-String #"
      ],
      "metadata": {
        "id": "OnzUetGadwN2"
      }
    },
    {
      "cell_type": "code",
      "source": [
        "nama = input(\"Masukkan nama: \")\n",
        "umur = int(input(\"Masukkan umur: \"))\n",
        "\n",
        "print(f\"Nama saya {nama}, umur {umur} tahun.\")"
      ],
      "metadata": {
        "colab": {
          "base_uri": "https://localhost:8080/"
        },
        "id": "jprflEkvd10j",
        "outputId": "e2f8a8a4-ac28-46ea-d8c8-8d5624e5650e"
      },
      "execution_count": null,
      "outputs": [
        {
          "output_type": "stream",
          "name": "stdout",
          "text": [
            "Masukkan nama: Budi\n",
            "Masukkan umur: 21\n",
            "Nama saya Budi, umur 21 tahun.\n"
          ]
        }
      ]
    },
    {
      "cell_type": "markdown",
      "source": [
        "# Praktikum 05 - Operasi dalam F-String #"
      ],
      "metadata": {
        "id": "FHgQMo9EeZRc"
      }
    },
    {
      "cell_type": "code",
      "source": [
        "a = int(input(\"Masukkan nilai a: \"))\n",
        "b = int(input(\"Masukkan nilai b: \"))\n",
        "\n",
        "print(f\"Hasil penjumlahan {a}+{b} = {a+b}\")\n",
        "print(f\"Hasil pembagian {a}/{b} = {a/b:.2f}\")"
      ],
      "metadata": {
        "colab": {
          "base_uri": "https://localhost:8080/"
        },
        "id": "BuyzEzk0edgU",
        "outputId": "524abd1b-7ea6-4fd6-c09b-32200ae23b21"
      },
      "execution_count": 4,
      "outputs": [
        {
          "output_type": "stream",
          "name": "stdout",
          "text": [
            "Masukkan nilai a: 10\n",
            "Masukkan nilai b: 3\n",
            "Hasil penjumlahan 10+3 = 13\n",
            "Hasil pembagian 10/3 = 3.33\n"
          ]
        }
      ]
    },
    {
      "cell_type": "markdown",
      "source": [
        "# Praktikum 06 - Casting String #"
      ],
      "metadata": {
        "id": "2SGqgO5YfTUB"
      }
    },
    {
      "cell_type": "code",
      "source": [
        "angka = 123\n",
        "teks = \"456\"\n",
        "\n",
        "print(\"Nilai: \" + str(angka))\n",
        "print(int(teks) + 10)"
      ],
      "metadata": {
        "colab": {
          "base_uri": "https://localhost:8080/"
        },
        "id": "KCKavwY6fXEK",
        "outputId": "7a8a68d4-9ea6-4e73-f84e-4530153f145c"
      },
      "execution_count": null,
      "outputs": [
        {
          "output_type": "stream",
          "name": "stdout",
          "text": [
            "Nilai: 123\n",
            "466\n"
          ]
        }
      ]
    },
    {
      "cell_type": "markdown",
      "source": [
        "# Praktikum 07 - Studi Kasus Nyata: Analisis Kalimat #"
      ],
      "metadata": {
        "id": "hW2nPEP2fsAQ"
      }
    },
    {
      "cell_type": "code",
      "source": [
        "kalimat = \"Saya kuliah di Politeknik Negeri Semarang\"\n",
        "daftar_kata = kalimat.split(\" \")\n",
        "\n",
        "print(f\"Jumlah kata: {len(daftar_kata)}\")\n",
        "for i, kata in enumerate(daftar_kata, start=1):\n",
        "  print(i, kata)"
      ],
      "metadata": {
        "colab": {
          "base_uri": "https://localhost:8080/"
        },
        "id": "2m3f3gxTfxHS",
        "outputId": "cd64775f-e7c1-4e4e-879e-13c5b7c691de"
      },
      "execution_count": 6,
      "outputs": [
        {
          "output_type": "stream",
          "name": "stdout",
          "text": [
            "Jumlah kata: 6\n",
            "1 Saya\n",
            "2 kuliah\n",
            "3 di\n",
            "4 Politeknik\n",
            "5 Negeri\n",
            "6 Semarang\n"
          ]
        }
      ]
    },
    {
      "cell_type": "markdown",
      "source": [
        "# Penugasan 3 - Indexing dan Slicing #"
      ],
      "metadata": {
        "id": "DYNzoofkka24"
      }
    },
    {
      "cell_type": "code",
      "source": [
        "teks = \"Politeknik Negeri Semarang\"\n",
        "print(teks[0])      #huruf pertama\n",
        "print(teks[-1])     #huruf terakhir\n",
        "print(teks[11:17])  #kata \"Negeri\""
      ],
      "metadata": {
        "colab": {
          "base_uri": "https://localhost:8080/"
        },
        "id": "JlgCE6IhkjP5",
        "outputId": "29dbd11b-2050-46fc-b7f9-e811c71fe275"
      },
      "execution_count": 16,
      "outputs": [
        {
          "output_type": "stream",
          "name": "stdout",
          "text": [
            "P\n",
            "g\n",
            "Negeri\n"
          ]
        }
      ]
    },
    {
      "cell_type": "markdown",
      "source": [
        "# Penugasan 4 - Manipulasi String #"
      ],
      "metadata": {
        "id": "A-053uAJk19G"
      }
    },
    {
      "cell_type": "code",
      "source": [
        "teks = \"Politeknik Negeri Semarang\"\n",
        "print(teks.upper ())\n",
        "print(teks.lower ())\n",
        "print(f\"Panjang karakter: {len(teks)}\")"
      ],
      "metadata": {
        "colab": {
          "base_uri": "https://localhost:8080/"
        },
        "id": "30yYgdRbk62M",
        "outputId": "576ac353-9b1a-46df-f406-817b16b715df"
      },
      "execution_count": 9,
      "outputs": [
        {
          "output_type": "stream",
          "name": "stdout",
          "text": [
            "POLITEKNIK NEGERI SEMARANG\n",
            "politeknik negeri semarang\n",
            "Panjang karakter: 26\n"
          ]
        }
      ]
    },
    {
      "cell_type": "markdown",
      "source": [
        "# Penugasan 5 - Validasi Username #"
      ],
      "metadata": {
        "id": "H6lgQPHFm8Zz"
      }
    },
    {
      "cell_type": "code",
      "source": [
        "username = input(\"Masukkan username: \")\n",
        "\n",
        "if \" \" in username:\n",
        "    print(\"Error\")\n",
        "else:\n",
        "    print(\"Username valid\")"
      ],
      "metadata": {
        "colab": {
          "base_uri": "https://localhost:8080/"
        },
        "id": "hukSVqM5nFGg",
        "outputId": "c1a739e6-3f11-466e-cc45-20b792501e88"
      },
      "execution_count": 10,
      "outputs": [
        {
          "output_type": "stream",
          "name": "stdout",
          "text": [
            "Masukkan username: DeaCantika\n",
            "Username valid\n"
          ]
        }
      ]
    },
    {
      "cell_type": "markdown",
      "source": [
        "# Penugasan 6 - String Formatting dengan F-String #"
      ],
      "metadata": {
        "id": "CyqKX9L3nwY6"
      }
    },
    {
      "cell_type": "code",
      "source": [
        "data = {\n",
        "    \"Nama\":\"Andi\",\n",
        "    \"Umur\":\"20\",\n",
        "    \"Jurusan\":\"Teknologi Rekayasa Komputer\"\n",
        "}\n",
        "\n",
        "for k,v in data.items():\n",
        "  print(k,\":\",v)"
      ],
      "metadata": {
        "colab": {
          "base_uri": "https://localhost:8080/"
        },
        "id": "kmbTvk0Kn9sT",
        "outputId": "414359ba-9b5b-4fd7-c9af-b75580bfb197"
      },
      "execution_count": null,
      "outputs": [
        {
          "output_type": "stream",
          "name": "stdout",
          "text": [
            "Nama : Andi\n",
            "Umur : 20\n",
            "Jurusan : Teknologi Rekayasa Komputer\n"
          ]
        }
      ]
    },
    {
      "cell_type": "markdown",
      "source": [
        "# Penugasan 7 - Operasi dalam F-String #"
      ],
      "metadata": {
        "id": "VqiVNnLmpeza"
      }
    },
    {
      "cell_type": "code",
      "source": [
        "a = int(input(\"Masukkan bilangan pertama: \"))\n",
        "b = int(input(\"Masukkan bilangan kedua: \"))\n",
        "\n",
        "print(f\"Hasil Penjumlahan {a}+{b} = {a+b}\")\n",
        "print(f\"Hasil Pembagian {a}/{b} = {a/b:.3f}\")"
      ],
      "metadata": {
        "colab": {
          "base_uri": "https://localhost:8080/"
        },
        "id": "VlHklg6Zplkw",
        "outputId": "bd7d9fba-1a6b-40e5-921d-b2e5b73ad206"
      },
      "execution_count": 11,
      "outputs": [
        {
          "output_type": "stream",
          "name": "stdout",
          "text": [
            "Masukkan bilangan pertama: 8\n",
            "Masukkan bilangan kedua: 3\n",
            "Hasil Penjumlahan 8+3 = 11\n",
            "Hasil Pembagian 8/3 = 2.667\n"
          ]
        }
      ]
    },
    {
      "cell_type": "markdown",
      "source": [
        "# Penugasan 8 - Casting Data #"
      ],
      "metadata": {
        "id": "C4nKDTWqrOx4"
      }
    },
    {
      "cell_type": "code",
      "source": [
        "angka_str = input(\"Masukkan sebuah angka: \")\n",
        "angka_int = int(angka_str)\n",
        "angka_float = float(angka_str)\n",
        "\n",
        "print(\"Kuadrat dari angka tersebut adalah:\", angka_int ** 2)\n",
        "print(\"Angka dalam bentuk float: {:.2f}\".format(angka_float))"
      ],
      "metadata": {
        "colab": {
          "base_uri": "https://localhost:8080/"
        },
        "id": "UZOSoiMXrU-A",
        "outputId": "6968be53-3a80-4d22-ec17-e7acbbe60305"
      },
      "execution_count": null,
      "outputs": [
        {
          "output_type": "stream",
          "name": "stdout",
          "text": [
            "Masukkan sebuah angka: 8\n",
            "Kuadrat dari angka tersebut adalah: 64\n",
            "Angka dalam bentuk float: 8.00\n"
          ]
        }
      ]
    },
    {
      "cell_type": "markdown",
      "source": [
        "# Penugasan 9 - Studi Kasus Analisis Teks #"
      ],
      "metadata": {
        "id": "veP4KZEXs1aX"
      }
    },
    {
      "cell_type": "code",
      "source": [
        "kalimat = input(\"Masukkan sebuah kalimat: \")\n",
        "kata_list = kalimat.split()\n",
        "jumlah_kata = len(kata_list)\n",
        "kata_terpanjang = max(kata_list, key=len)\n",
        "kata_urut_abjad = sorted(kata_list)\n",
        "\n",
        "print(\"\\nHasil Analisis Teks:\")\n",
        "print(\"1. Jumlah kata       :\", jumlah_kata)\n",
        "print(\"2. Kata terpanjang   :\", kata_terpanjang)\n",
        "print(\"3. Daftar kata dalam urutan abjad:\", kata_urut_abjad)"
      ],
      "metadata": {
        "colab": {
          "base_uri": "https://localhost:8080/"
        },
        "id": "IOwAMQc4tCWQ",
        "outputId": "0fd2300f-843e-4798-cf3c-c80fa5d10b5a"
      },
      "execution_count": null,
      "outputs": [
        {
          "output_type": "stream",
          "name": "stdout",
          "text": [
            "Masukkan sebuah kalimat: Politeknik Negeri Semarang\n",
            "\n",
            "Hasil Analisis Teks:\n",
            "1. Jumlah kata       : 3\n",
            "2. Kata terpanjang   : Politeknik\n",
            "3. Daftar kata dalam urutan abjad: ['Negeri', 'Politeknik', 'Semarang']\n"
          ]
        }
      ]
    }
  ]
}