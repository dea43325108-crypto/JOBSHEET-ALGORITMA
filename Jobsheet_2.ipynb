{
  "nbformat": 4,
  "nbformat_minor": 0,
  "metadata": {
    "colab": {
      "provenance": [],
      "authorship_tag": "ABX9TyPhcv8g58HD7YdHUto9sqqX",
      "include_colab_link": true
    },
    "kernelspec": {
      "name": "python3",
      "display_name": "Python 3"
    },
    "language_info": {
      "name": "python"
    }
  },
  "cells": [
    {
      "cell_type": "markdown",
      "metadata": {
        "id": "view-in-github",
        "colab_type": "text"
      },
      "source": [
        "<a href=\"https://colab.research.google.com/github/dea43325108-crypto/JOBSHEET-ALGORITMA/blob/main/Jobsheet_2.ipynb\" target=\"_parent\"><img src=\"https://colab.research.google.com/assets/colab-badge.svg\" alt=\"Open In Colab\"/></a>"
      ]
    },
    {
      "cell_type": "markdown",
      "source": [
        "# Pengenalan Variabel dan Tipe Data #"
      ],
      "metadata": {
        "id": "pEESuo-ImeMP"
      }
    },
    {
      "cell_type": "code",
      "execution_count": 3,
      "metadata": {
        "id": "9_PT8vLTmVuw",
        "colab": {
          "base_uri": "https://localhost:8080/"
        },
        "outputId": "37329276-d949-4e49-e65a-07bee83db435"
      },
      "outputs": [
        {
          "output_type": "stream",
          "name": "stdout",
          "text": [
            "Umur: 20 :-> <class 'int'>\n",
            "Tinggi: 170.5 -> <class 'float'>\n",
            "Nama: Dea -> <class 'str'>\n",
            "Status Mahasiswa: True -> <class 'bool'>\n",
            "Nilai: [80, 85, 90] -> <class 'list'>\n",
            "Koordinat: (10, 20) -> <class 'tuple'>\n",
            "Hobi: {'olahraga', 'musik', 'membaca'} -> <class 'set'>\n"
          ]
        }
      ],
      "source": [
        "# Integer\n",
        "umur = 20\n",
        "print (\"Umur:\", umur, \":->\", type(umur))\n",
        "\n",
        "# Float\n",
        "tinggi = 170.5\n",
        "print (\"Tinggi:\", tinggi, \"->\", type(tinggi))\n",
        "\n",
        "# String\n",
        "nama = \"Dea\"\n",
        "print(\"Nama:\", nama, \"->\", type(nama))\n",
        "\n",
        "#Boolean\n",
        "is_mahasiswa = True\n",
        "print(\"Status Mahasiswa:\", is_mahasiswa, \"->\", type(is_mahasiswa))\n",
        "\n",
        "# List\n",
        "nilai = [80, 85, 90]\n",
        "print(\"Nilai:\", nilai, \"->\", type(nilai))\n",
        "\n",
        "# Tuple\n",
        "koordinat = (10, 20)\n",
        "print(\"Koordinat:\", koordinat, \"->\", type(koordinat))\n",
        "\n",
        "# Dictionary\n",
        "mahasiswa = {\"nama\": \"Dea\", \"umur\": 20, \"prodi\": \"TRK\"}\n",
        "\n",
        "# Set\n",
        "hobi = {\"membaca\", \"olahraga\", \"musik\"}\n",
        "print(\"Hobi:\", hobi, \"->\", type(hobi))"
      ]
    },
    {
      "cell_type": "markdown",
      "source": [
        "# Input dan Output Dasar #\n",
        "\n",
        "\n"
      ],
      "metadata": {
        "id": "OpbxMcXoBQ-K"
      }
    },
    {
      "cell_type": "code",
      "source": [
        "# Input string\n",
        "nama = input(\"Masukkan nama anda: \")\n",
        "\n",
        "# Input integer\n",
        "umur = int(input(\"Masukkan umur anda: \"))\n",
        "\n",
        "# Input float\n",
        "tinggi = float(input(\"Masukkan tinggi badan (cm): \"))\n",
        "\n",
        "# Output standar\n",
        "print(\"Halo,\", nama, \"umur anda:\", umur, \"tahun, tinggi:\", tinggi, \"cm\")\n",
        "\n",
        "# Output dengan format()\n",
        "print(\"Halo {0}, umur anda {1} tahun, tinggi {2} cm\".format(nama, umur, tinggi))\n",
        "\n",
        "# Output dengan f-string\n",
        "print(f\"Halo {nama}, umur anda {umur} tahun, tinggi {tinggi} cm\")\n"
      ],
      "metadata": {
        "colab": {
          "base_uri": "https://localhost:8080/"
        },
        "id": "TqJ9saYBCBrV",
        "outputId": "e4ea960c-6126-4ed7-a717-d5594316b8b9"
      },
      "execution_count": 4,
      "outputs": [
        {
          "output_type": "stream",
          "name": "stdout",
          "text": [
            "Masukkan nama anda: dea\n",
            "Masukkan umur anda: 19\n",
            "Masukkan tinggi badan (cm): 155\n",
            "Halo, dea umur anda: 19 tahun, tinggi: 155.0 cm\n",
            "Halo dea, umur anda 19 tahun, tinggi 155.0 cm\n",
            "Halo dea, umur anda 19 tahun, tinggi 155.0 cm\n"
          ]
        }
      ]
    },
    {
      "cell_type": "markdown",
      "source": [
        "# Operator Aritmatika #\n"
      ],
      "metadata": {
        "id": "P5xRnNyxGsMX"
      }
    },
    {
      "cell_type": "code",
      "source": [
        "a = 15\n",
        "b = 4\n",
        "\n",
        "print(\"a + b =\", a + b)\n",
        "print(\"a - b =\", a - b)\n",
        "print(\"a * b =\", a * b)\n",
        "print(\"a / b =\", a / b)\n",
        "print(\"a // b =\", a // b)\n",
        "print(\"a % b =\", a % b)\n",
        "print(\"a ** b =\", a ** b)\n"
      ],
      "metadata": {
        "colab": {
          "base_uri": "https://localhost:8080/"
        },
        "id": "H2Rg59OiG0ll",
        "outputId": "44ce5a2c-b89c-4d3f-b96d-407d43b1df21"
      },
      "execution_count": 5,
      "outputs": [
        {
          "output_type": "stream",
          "name": "stdout",
          "text": [
            "a + b = 19\n",
            "a - b = 11\n",
            "a * b = 60\n",
            "a / b = 3.75\n",
            "a // b = 3\n",
            "a % b = 3\n",
            "a ** b = 50625\n"
          ]
        }
      ]
    },
    {
      "cell_type": "markdown",
      "source": [
        "# Operator Relasional #\n"
      ],
      "metadata": {
        "id": "mfGPWaahJEoN"
      }
    },
    {
      "cell_type": "code",
      "source": [
        "x = 10\n",
        "y = 20\n",
        "\n",
        "print(\"x == y :\", x == y)\n",
        "print(\"x != y :\", x != y)\n",
        "print(\"x < y :\", x < y)\n",
        "print(\"x > y :\", x > y)\n",
        "print(\"x <= y :\", x <= y)\n",
        "print(\"x >= y :\", x >= y)\n"
      ],
      "metadata": {
        "colab": {
          "base_uri": "https://localhost:8080/"
        },
        "id": "hjWe3I4HJVmx",
        "outputId": "395ae06f-cca9-4c99-d46d-6998908683fa"
      },
      "execution_count": 6,
      "outputs": [
        {
          "output_type": "stream",
          "name": "stdout",
          "text": [
            "x == y : False\n",
            "x != y : True\n",
            "x < y : True\n",
            "x > y : False\n",
            "x <= y : True\n",
            "x >= y : False\n"
          ]
        }
      ]
    },
    {
      "cell_type": "markdown",
      "source": [
        "# Operator Logika dengan Studi Kasus Nyata #"
      ],
      "metadata": {
        "id": "6xRwenR7LC5H"
      }
    },
    {
      "cell_type": "code",
      "source": [
        "# Operator logika dasar\n",
        "a = True\n",
        "b = False\n",
        "\n",
        "print(\"a and b =\", a and b)\n",
        "print(\"a or b =\", a or b)\n",
        "print(\"not a =\", not a)\n",
        "\n",
        "# Studi kasus nyata: kelulusan\n",
        "nilai = int(input(\"Masukkan nilai ujian: \"))\n",
        "hadir = int(input(\"Masukkan jumlah kehadiran: \"))\n",
        "\n",
        "lulus_nilai = nilai >= 60\n",
        "lulus_hadir = hadir >= 12 # dari 16 pertemuan\n",
        "\n",
        "if lulus_nilai and lulus_hadir:\n",
        "  print(\"Status: LULUS\")\n",
        "else:\n",
        "  print(\"Status: TIDAK LULUS\")"
      ],
      "metadata": {
        "colab": {
          "base_uri": "https://localhost:8080/"
        },
        "id": "gp8jlFF9LS6m",
        "outputId": "e0569d7c-f585-45de-c693-8174ee378d39"
      },
      "execution_count": 9,
      "outputs": [
        {
          "output_type": "stream",
          "name": "stdout",
          "text": [
            "a and b = False\n",
            "a or b = True\n",
            "not a = False\n",
            "Masukkan nilai ujian: 90\n",
            "Masukkan jumlah kehadiran: 20\n",
            "Status: LULUS\n"
          ]
        }
      ]
    },
    {
      "cell_type": "markdown",
      "source": [
        "# Program Kasir Sederhana #"
      ],
      "metadata": {
        "id": "Ih160nq_NtCA"
      }
    },
    {
      "cell_type": "code",
      "source": [
        "barang = input(\"Masukkan nama barang:\")\n",
        "harga = float(input(\"Masukkan harga barang: \"))\n",
        "jumlah = int(input(\"Masukkan jumlah barang: \"))\n",
        "\n",
        "total = harga * jumlah\n",
        "\n",
        "# Aturan diskon\n",
        "if total >= 500000:\n",
        "  diskon = 0.2\n",
        "elif total >= 250000:\n",
        "  diskon = 0.1\n",
        "else:\n",
        "  diskon = 0\n",
        "\n",
        "  potongan = total * diskon\n",
        "  bayar = total - potongan\n",
        "\n",
        "  print(\"\\n==== Struk Belanja ====\")\n",
        "  print(f\"Barang : {barang}\")\n",
        "  print(f\"Jumlah : {jumlah}\")\n",
        "  print(f\"Total : Rp {total}\")\n",
        "  print(f\"Diskon : {diskon * 100}%\")\n",
        "  print(f\"Bayar : Rp {bayar}\")\n"
      ],
      "metadata": {
        "colab": {
          "base_uri": "https://localhost:8080/"
        },
        "id": "TV9IrVNxOFvv",
        "outputId": "b18088be-5fa2-4248-a8a8-ad27bd9a2b30"
      },
      "execution_count": 19,
      "outputs": [
        {
          "output_type": "stream",
          "name": "stdout",
          "text": [
            "Masukkan nama barang:tas\n",
            "Masukkan harga barang: 100000\n",
            "Masukkan jumlah barang: 2\n",
            "\n",
            "==== Struk Belanja ====\n",
            "Barang : tas\n",
            "Jumlah : 2\n",
            "Total : Rp 200000.0\n",
            "Diskon : 0%\n",
            "Bayar : Rp 200000.0\n"
          ]
        }
      ]
    },
    {
      "cell_type": "markdown",
      "source": [
        "# Identitas Mahasiswa #"
      ],
      "metadata": {
        "id": "OPxKgqlZSSf2"
      }
    },
    {
      "cell_type": "code",
      "source": [
        "nama = \"Dea Cantika\"\n",
        "umur = 19\n",
        "tinggi = 155.0\n",
        "status_aktif = True\n",
        "\n",
        "print(\"==== Identitas Mahasiswa ===\")\n",
        "print(f\"Nama Mahasiswa: {nama}\" )\n",
        "print(f\"Umur Mahasiswa: {umur}\")\n",
        "print(f\"Tinggi Mahasiswa: {tinggi} cm\")\n",
        "print(f\"Status Aktif: {status_aktif}\")"
      ],
      "metadata": {
        "colab": {
          "base_uri": "https://localhost:8080/"
        },
        "id": "yVAPB_ybSXV-",
        "outputId": "91342236-a0d5-4e16-80e9-919622215962"
      },
      "execution_count": 22,
      "outputs": [
        {
          "output_type": "stream",
          "name": "stdout",
          "text": [
            "==== Identitas Mahasiswa ===\n",
            "Nama Mahasiswa: Dea Cantika\n",
            "Umur Mahasiswa: 19\n",
            "Tinggi Mahasiswa: 155.0 cm\n",
            "Status Aktif: True\n"
          ]
        }
      ]
    },
    {
      "cell_type": "markdown",
      "source": [
        "# Operasi Aritmatika #"
      ],
      "metadata": {
        "id": "NnnKrNR_e1i7"
      }
    },
    {
      "cell_type": "code",
      "source": [
        "a = int(input(\"Masukkan angka pertama: \"))\n",
        "b = int(input(\"Masukkan angka kedua: \"))\n",
        "\n",
        "print(\"a + b=\", a + b)\n",
        "print(\"a - b=\", a - b)\n",
        "print(\"a * b=\", a * b)\n",
        "print(\"a / b=\", a / b)\n",
        "print(\"a // b=\", a // b)\n",
        "print(\"a % b=\", a % b)\n",
        "print(\"a ** b=\", a ** b)"
      ],
      "metadata": {
        "colab": {
          "base_uri": "https://localhost:8080/"
        },
        "id": "0BsAzrwue-mt",
        "outputId": "7e6729fd-24cb-4c9b-d127-a363ec96e030"
      },
      "execution_count": 32,
      "outputs": [
        {
          "output_type": "stream",
          "name": "stdout",
          "text": [
            "Masukkan angka pertama: 8\n",
            "Masukkan angka kedua: 4\n",
            "a + b= 12\n",
            "a - b= 4\n",
            "a * b= 32\n",
            "a / b= 2.0\n",
            "a // b= 2\n",
            "a % b= 0\n",
            "a ** b= 4096\n"
          ]
        }
      ]
    },
    {
      "cell_type": "markdown",
      "source": [
        "# Konversi Nilai #"
      ],
      "metadata": {
        "id": "96i_GWwfVaKq"
      }
    },
    {
      "cell_type": "code",
      "source": [
        "angka = float(input(\"Masukkan bilangan desimal: \"))\n",
        "\n",
        "print(\"Bilangan bulatnya adalah: \", int(angka))\n",
        "print(\"Bilangan dalam bentuk string:\", str(angka))\n",
        "print(\"Bilangan pembulatan dua digit dibelakang koma:\", round(angka))"
      ],
      "metadata": {
        "colab": {
          "base_uri": "https://localhost:8080/"
        },
        "id": "dmwKv_KsV1ov",
        "outputId": "d7a3b82e-0c8d-4eec-b27b-e196915d1d73"
      },
      "execution_count": 34,
      "outputs": [
        {
          "output_type": "stream",
          "name": "stdout",
          "text": [
            "Masukkan bilangan desimal: 15.5\n",
            "Bilangan bulatnya adalah:  15\n",
            "Bilangan dalam bentuk string: 15.5\n",
            "Bilangan pembulatan dua digit dibelakang koma: 16\n"
          ]
        }
      ]
    },
    {
      "cell_type": "markdown",
      "source": [
        "# Operator Relasional #"
      ],
      "metadata": {
        "id": "m_lw50LIW8wz"
      }
    },
    {
      "cell_type": "code",
      "source": [
        "m = float(input(\"Masukkan bilangan pertama:\"))\n",
        "n = float(input(\"Masukkan bilangan kedua: \"))\n",
        "\n",
        "sama_dengan = m == n\n",
        "tidak_sama_dengan = m != n\n",
        "lebih_kecil = m < n\n",
        "lebih_besar = m > n\n",
        "kecil_sama_dengan = m <= n\n",
        "besar_sama_dengan = m >= n\n",
        "\n",
        "print(\"Apakah bilangan pertama sama dengan bilangan kedua?\", sama_dengan)\n",
        "print(\"Apakah bilangan pertama tidak sama dengan?\", tidak_sama_dengan)\n",
        "print(\"Apakah bilangan pertama lebih kecil dari bilangan kedua?\", lebih_kecil)\n",
        "print(\"Apakah bilangan pertama lebih besat dari bilangan kedua?\", lebih_besar)\n",
        "print(\"Apakah bilangan pertama lebih kecil sama dengan bilangan kedua?\", kecil_sama_dengan)\n",
        "print(\"Apakah bilangan pertama lebih besar sama dengan bilangan kedua?\", besar_sama_dengan)"
      ],
      "metadata": {
        "colab": {
          "base_uri": "https://localhost:8080/"
        },
        "id": "f7FfeyOEXWn0",
        "outputId": "97eab096-a0fb-4e58-fbb8-523e301bae36"
      },
      "execution_count": 26,
      "outputs": [
        {
          "output_type": "stream",
          "name": "stdout",
          "text": [
            "Masukkan bilangan pertama:10\n",
            "Masukkan bilangan kedua: 15\n",
            "Apakah bilangan pertama sama dengan bilangan kedua? False\n",
            "Apakah bilangan pertama tidak sama dengan? True\n",
            "Apakah bilangan pertama lebih kecil dari bilangan kedua? True\n",
            "Apakah bilangan pertama lebih besat dari bilangan kedua? False\n",
            "Apakah bilangan pertama lebih kecil sama dengan bilangan kedua? True\n",
            "Apakah bilangan pertama lebih besar sama dengan bilangan kedua? False\n"
          ]
        }
      ]
    },
    {
      "cell_type": "markdown",
      "source": [],
      "metadata": {
        "id": "spFbmT8h8uMT"
      }
    }
  ]
}